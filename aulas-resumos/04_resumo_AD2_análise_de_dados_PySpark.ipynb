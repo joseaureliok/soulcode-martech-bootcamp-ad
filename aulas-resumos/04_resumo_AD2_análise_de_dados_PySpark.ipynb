{
  "cells": [
    {
      "cell_type": "markdown",
      "metadata": {
        "id": "view-in-github",
        "colab_type": "text"
      },
      "source": [
        "<a href=\"https://colab.research.google.com/github/joseaureliok/soulcode-martech-bootcamp-ad/blob/notebooks_aulas/aulas-resumos/04_resumo_AD2_an%C3%A1lise_de_dados_PySpark.ipynb\" target=\"_parent\"><img src=\"https://colab.research.google.com/assets/colab-badge.svg\" alt=\"Open In Colab\"/></a>"
      ]
    },
    {
      "cell_type": "markdown",
      "metadata": {
        "id": "EHgQuD7nc_qs"
      },
      "source": [
        "# **PYSPARK PARA ANÁLISE DE DADOS**\n",
        "\n",
        "Este notebook foi elaborado no Google Colaboratory e posteriormente ajustado pelo VS Code, em forma de compilação dos principais pontos do apresentados sobre o tema durante o curso.\n",
        "\n",
        "#### Bootcamp Martech em Análise de Dados - AD2\n",
        "##### SoulCode Academy\n",
        "##### Professores:\n",
        "                Franciane Rodrigues\n",
        "                Douglas Ribeiro\n",
        "                Jonatas Carneiro\n",
        "##### Acadêmico:\n",
        "                José Aurelio Kovalczuk de Oliveira"
      ]
    },
    {
      "cell_type": "markdown",
      "metadata": {
        "id": "UEzR--8hXNyX"
      },
      "source": [
        "## **Configuração do PySpark**"
      ]
    },
    {
      "cell_type": "code",
      "execution_count": null,
      "metadata": {
        "id": "ZJeAo4WOchxn"
      },
      "outputs": [],
      "source": [
        "!apt-get install openjdk-8-jdk-headless -qq > /dev/null\n",
        "!wget -q http://archive.apache.org/dist/spark/spark-3.1.1/spark-3.1.1-bin-hadoop3.2.tgz\n",
        "!tar xf spark-3.1.1-bin-hadoop3.2.tgz\n",
        "!pip install -q findspark"
      ]
    },
    {
      "cell_type": "code",
      "execution_count": null,
      "metadata": {
        "id": "KVi9rnqxcp59"
      },
      "outputs": [],
      "source": [
        "import os\n",
        "os.environ[\"JAVA_HOME\"] = \"/usr/lib/jvm/java-8-openjdk-amd64\"\n",
        "os.environ[\"SPARK_HOME\"] = \"/content/spark-3.1.1-bin-hadoop3.2\""
      ]
    },
    {
      "cell_type": "code",
      "execution_count": null,
      "metadata": {
        "colab": {
          "base_uri": "https://localhost:8080/",
          "height": 219
        },
        "id": "pDFDjKCQcsoe",
        "outputId": "c4707102-a5b5-4357-a476-72aa0102c178"
      },
      "outputs": [
        {
          "data": {
            "text/html": [
              "\n",
              "            <div>\n",
              "                <p><b>SparkSession - in-memory</b></p>\n",
              "                \n",
              "        <div>\n",
              "            <p><b>SparkContext</b></p>\n",
              "\n",
              "            <p><a href=\"http://be906fefa463:4040\">Spark UI</a></p>\n",
              "\n",
              "            <dl>\n",
              "              <dt>Version</dt>\n",
              "                <dd><code>v3.1.1</code></dd>\n",
              "              <dt>Master</dt>\n",
              "                <dd><code>local[*]</code></dd>\n",
              "              <dt>AppName</dt>\n",
              "                <dd><code>pyspark-shell</code></dd>\n",
              "            </dl>\n",
              "        </div>\n",
              "        \n",
              "            </div>\n",
              "        "
            ],
            "text/plain": [
              "<pyspark.sql.session.SparkSession at 0x7de98c1b5840>"
            ]
          },
          "execution_count": 3,
          "metadata": {},
          "output_type": "execute_result"
        }
      ],
      "source": [
        "import findspark\n",
        "findspark.init()\n",
        "from pyspark.sql import SparkSession\n",
        "spark = SparkSession.builder.master(\"local[*]\").getOrCreate()\n",
        "from pyspark.sql.functions import regexp_replace\n",
        "spark.conf.set(\"spark.sql.repl.eagerEval.enabled\", True) # Para deixar a visualição das tabelas mais amigável\n",
        "spark"
      ]
    },
    {
      "cell_type": "markdown",
      "metadata": {
        "id": "Kybangw8c-uM"
      },
      "source": [
        "## **Bibliotecas**"
      ]
    },
    {
      "cell_type": "code",
      "execution_count": null,
      "metadata": {
        "colab": {
          "base_uri": "https://localhost:8080/"
        },
        "id": "IFTw8r1LdG5U",
        "outputId": "87728d2b-b0b7-4b68-9a76-691f3f641fff"
      },
      "outputs": [
        {
          "name": "stdout",
          "output_type": "stream",
          "text": [
            "Collecting pandera\n",
            "  Downloading pandera-0.15.2-py3-none-any.whl (152 kB)\n",
            "\u001b[?25l     \u001b[90m━━━━━━━━━━━━━━━━━━━━━━━━━━━━━━━━━━━━━━━━\u001b[0m \u001b[32m0.0/152.4 kB\u001b[0m \u001b[31m?\u001b[0m eta \u001b[36m-:--:--\u001b[0m\r\u001b[2K     \u001b[91m━━━━━━━━━━━━━━━━━━━━━━━━━━━━━━━━━━━━\u001b[0m\u001b[91m╸\u001b[0m\u001b[90m━━\u001b[0m \u001b[32m143.4/152.4 kB\u001b[0m \u001b[31m5.1 MB/s\u001b[0m eta \u001b[36m0:00:01\u001b[0m\r\u001b[2K     \u001b[90m━━━━━━━━━━━━━━━━━━━━━━━━━━━━━━━━━━━━━━━\u001b[0m \u001b[32m152.4/152.4 kB\u001b[0m \u001b[31m3.3 MB/s\u001b[0m eta \u001b[36m0:00:00\u001b[0m\n",
            "\u001b[?25hCollecting multimethod (from pandera)\n",
            "  Downloading multimethod-1.9.1-py3-none-any.whl (10 kB)\n",
            "Requirement already satisfied: numpy>=1.19.0 in /usr/local/lib/python3.10/dist-packages (from pandera) (1.22.4)\n",
            "Requirement already satisfied: packaging>=20.0 in /usr/local/lib/python3.10/dist-packages (from pandera) (23.1)\n",
            "Requirement already satisfied: pandas>=1.2.0 in /usr/local/lib/python3.10/dist-packages (from pandera) (1.5.3)\n",
            "Requirement already satisfied: pydantic<2.0.0 in /usr/local/lib/python3.10/dist-packages (from pandera) (1.10.11)\n",
            "Collecting typeguard>=3.0.2 (from pandera)\n",
            "  Downloading typeguard-4.0.0-py3-none-any.whl (33 kB)\n",
            "Collecting typing-inspect>=0.6.0 (from pandera)\n",
            "  Downloading typing_inspect-0.9.0-py3-none-any.whl (8.8 kB)\n",
            "Requirement already satisfied: wrapt in /usr/local/lib/python3.10/dist-packages (from pandera) (1.14.1)\n",
            "Requirement already satisfied: python-dateutil>=2.8.1 in /usr/local/lib/python3.10/dist-packages (from pandas>=1.2.0->pandera) (2.8.2)\n",
            "Requirement already satisfied: pytz>=2020.1 in /usr/local/lib/python3.10/dist-packages (from pandas>=1.2.0->pandera) (2022.7.1)\n",
            "Requirement already satisfied: typing-extensions>=4.2.0 in /usr/local/lib/python3.10/dist-packages (from pydantic<2.0.0->pandera) (4.7.1)\n",
            "Collecting mypy-extensions>=0.3.0 (from typing-inspect>=0.6.0->pandera)\n",
            "  Downloading mypy_extensions-1.0.0-py3-none-any.whl (4.7 kB)\n",
            "Requirement already satisfied: six>=1.5 in /usr/local/lib/python3.10/dist-packages (from python-dateutil>=2.8.1->pandas>=1.2.0->pandera) (1.16.0)\n",
            "Installing collected packages: typeguard, mypy-extensions, multimethod, typing-inspect, pandera\n",
            "Successfully installed multimethod-1.9.1 mypy-extensions-1.0.0 pandera-0.15.2 typeguard-4.0.0 typing-inspect-0.9.0\n",
            "Requirement already satisfied: gcsfs in /usr/local/lib/python3.10/dist-packages (2023.6.0)\n",
            "Requirement already satisfied: aiohttp!=4.0.0a0,!=4.0.0a1 in /usr/local/lib/python3.10/dist-packages (from gcsfs) (3.8.4)\n",
            "Requirement already satisfied: decorator>4.1.2 in /usr/local/lib/python3.10/dist-packages (from gcsfs) (4.4.2)\n",
            "Requirement already satisfied: fsspec==2023.6.0 in /usr/local/lib/python3.10/dist-packages (from gcsfs) (2023.6.0)\n",
            "Requirement already satisfied: google-auth>=1.2 in /usr/local/lib/python3.10/dist-packages (from gcsfs) (2.17.3)\n",
            "Requirement already satisfied: google-auth-oauthlib in /usr/local/lib/python3.10/dist-packages (from gcsfs) (1.0.0)\n",
            "Requirement already satisfied: google-cloud-storage in /usr/local/lib/python3.10/dist-packages (from gcsfs) (2.8.0)\n",
            "Requirement already satisfied: requests in /usr/local/lib/python3.10/dist-packages (from gcsfs) (2.27.1)\n",
            "Requirement already satisfied: attrs>=17.3.0 in /usr/local/lib/python3.10/dist-packages (from aiohttp!=4.0.0a0,!=4.0.0a1->gcsfs) (23.1.0)\n",
            "Requirement already satisfied: charset-normalizer<4.0,>=2.0 in /usr/local/lib/python3.10/dist-packages (from aiohttp!=4.0.0a0,!=4.0.0a1->gcsfs) (2.0.12)\n",
            "Requirement already satisfied: multidict<7.0,>=4.5 in /usr/local/lib/python3.10/dist-packages (from aiohttp!=4.0.0a0,!=4.0.0a1->gcsfs) (6.0.4)\n",
            "Requirement already satisfied: async-timeout<5.0,>=4.0.0a3 in /usr/local/lib/python3.10/dist-packages (from aiohttp!=4.0.0a0,!=4.0.0a1->gcsfs) (4.0.2)\n",
            "Requirement already satisfied: yarl<2.0,>=1.0 in /usr/local/lib/python3.10/dist-packages (from aiohttp!=4.0.0a0,!=4.0.0a1->gcsfs) (1.9.2)\n",
            "Requirement already satisfied: frozenlist>=1.1.1 in /usr/local/lib/python3.10/dist-packages (from aiohttp!=4.0.0a0,!=4.0.0a1->gcsfs) (1.3.3)\n",
            "Requirement already satisfied: aiosignal>=1.1.2 in /usr/local/lib/python3.10/dist-packages (from aiohttp!=4.0.0a0,!=4.0.0a1->gcsfs) (1.3.1)\n",
            "Requirement already satisfied: cachetools<6.0,>=2.0.0 in /usr/local/lib/python3.10/dist-packages (from google-auth>=1.2->gcsfs) (5.3.1)\n",
            "Requirement already satisfied: pyasn1-modules>=0.2.1 in /usr/local/lib/python3.10/dist-packages (from google-auth>=1.2->gcsfs) (0.3.0)\n",
            "Requirement already satisfied: six>=1.9.0 in /usr/local/lib/python3.10/dist-packages (from google-auth>=1.2->gcsfs) (1.16.0)\n",
            "Requirement already satisfied: rsa<5,>=3.1.4 in /usr/local/lib/python3.10/dist-packages (from google-auth>=1.2->gcsfs) (4.9)\n",
            "Requirement already satisfied: requests-oauthlib>=0.7.0 in /usr/local/lib/python3.10/dist-packages (from google-auth-oauthlib->gcsfs) (1.3.1)\n",
            "Requirement already satisfied: google-api-core!=2.0.*,!=2.1.*,!=2.2.*,!=2.3.0,<3.0.0dev,>=1.31.5 in /usr/local/lib/python3.10/dist-packages (from google-cloud-storage->gcsfs) (2.11.1)\n",
            "Requirement already satisfied: google-cloud-core<3.0dev,>=2.3.0 in /usr/local/lib/python3.10/dist-packages (from google-cloud-storage->gcsfs) (2.3.3)\n",
            "Requirement already satisfied: google-resumable-media>=2.3.2 in /usr/local/lib/python3.10/dist-packages (from google-cloud-storage->gcsfs) (2.5.0)\n",
            "Requirement already satisfied: urllib3<1.27,>=1.21.1 in /usr/local/lib/python3.10/dist-packages (from requests->gcsfs) (1.26.16)\n",
            "Requirement already satisfied: certifi>=2017.4.17 in /usr/local/lib/python3.10/dist-packages (from requests->gcsfs) (2023.5.7)\n",
            "Requirement already satisfied: idna<4,>=2.5 in /usr/local/lib/python3.10/dist-packages (from requests->gcsfs) (3.4)\n",
            "Requirement already satisfied: googleapis-common-protos<2.0.dev0,>=1.56.2 in /usr/local/lib/python3.10/dist-packages (from google-api-core!=2.0.*,!=2.1.*,!=2.2.*,!=2.3.0,<3.0.0dev,>=1.31.5->google-cloud-storage->gcsfs) (1.59.1)\n",
            "Requirement already satisfied: protobuf!=3.20.0,!=3.20.1,!=4.21.0,!=4.21.1,!=4.21.2,!=4.21.3,!=4.21.4,!=4.21.5,<5.0.0.dev0,>=3.19.5 in /usr/local/lib/python3.10/dist-packages (from google-api-core!=2.0.*,!=2.1.*,!=2.2.*,!=2.3.0,<3.0.0dev,>=1.31.5->google-cloud-storage->gcsfs) (3.20.3)\n",
            "Requirement already satisfied: google-crc32c<2.0dev,>=1.0 in /usr/local/lib/python3.10/dist-packages (from google-resumable-media>=2.3.2->google-cloud-storage->gcsfs) (1.5.0)\n",
            "Requirement already satisfied: pyasn1<0.6.0,>=0.4.6 in /usr/local/lib/python3.10/dist-packages (from pyasn1-modules>=0.2.1->google-auth>=1.2->gcsfs) (0.5.0)\n",
            "Requirement already satisfied: oauthlib>=3.0.0 in /usr/local/lib/python3.10/dist-packages (from requests-oauthlib>=0.7.0->google-auth-oauthlib->gcsfs) (3.2.2)\n"
          ]
        }
      ],
      "source": [
        "# instalação de Bibiliotecas\n",
        "!pip install pandera\n",
        "!pip install gcsfs"
      ]
    },
    {
      "cell_type": "code",
      "execution_count": null,
      "metadata": {
        "id": "E8SXDQCOdIxB"
      },
      "outputs": [],
      "source": [
        "# importação de Bibliotecas\n",
        "import matplotlib.pyplot as plt\n",
        "import numpy as np\n",
        "import os\n",
        "import pandas as pd\n",
        "import pandera as pa\n",
        "import seaborn as sns\n",
        "import warnings\n",
        "\n",
        "import pyspark.sql.functions as f\n",
        "\n",
        "from statistics import mode\n",
        "\n",
        "from pyspark.sql.types import *\n",
        "from google.cloud import storage\n",
        "from google.colab import drive\n",
        "from pandas import DataFrame"
      ]
    },
    {
      "cell_type": "code",
      "execution_count": null,
      "metadata": {
        "id": "OlrQLilJdQid"
      },
      "outputs": [],
      "source": [
        "# retirada de alertas\n",
        "warnings.filterwarnings(\"ignore\")"
      ]
    },
    {
      "cell_type": "markdown",
      "metadata": {
        "id": "jigtPr9zdMB6"
      },
      "source": [
        "## **Conjunto de dados**"
      ]
    },
    {
      "cell_type": "code",
      "execution_count": null,
      "metadata": {
        "id": "tjjg-IhadKfw"
      },
      "outputs": [],
      "source": [
        "estrutura = StructType([\\\n",
        "                     StructField('time',StringType(),True), \\\n",
        "                     StructField('pontos',IntegerType(),True), \\\n",
        "                     StructField('jogos',IntegerType(),True), \\\n",
        "                     StructField('vitória',IntegerType(),True), \\\n",
        "                     StructField('empate', IntegerType(), True), \\\n",
        "                     StructField('derrota', IntegerType(), True),\\\n",
        "                     StructField('gols_pro', IntegerType(), True),\\\n",
        "                     StructField('gols_contra', IntegerType(), True),\\\n",
        "                     StructField('gols_saldo', IntegerType(), True),\\\n",
        "                     StructField('aproveitamento', DoubleType(), True)\n",
        "                    ])\n",
        "\n",
        "dados = [('Botafogo', 36,14,12,0,2,24,7,17,85.0),\n",
        "         ('Flamengo', 26\t,14\t,8\t,2\t,4\t,27\t,18\t,9\t,61.0),\n",
        "         ('Grêmio',26\t,14\t,8\t,2\t,4\t,24\t,20\t,4\t,61.0),\n",
        "         ('Fluminense',24\t,14\t,7\t,3\t,4\t,21\t,14\t,7\t,57.0),\n",
        "         ('Palmeiras',24\t,14\t,6\t,6\t,2\t,25\t,13\t,12\t,57.0),\n",
        "         ('Bragantino',24\t,14\t,6\t,6\t,2\t,22\t,14\t,8\t,57.0),\n",
        "         ('Fortaleza',23\t,14\t,6\t,5\t,3\t,16\t,11\t,5\t,54.0),\n",
        "         ('São Paulo',22,14\t,6\t,4\t,4\t,18\t,13\t,5\t,52.0),\n",
        "         ('Cruzeiro',21\t,14\t,6\t,3\t,5\t,16\t,11\t,5\t,50.0),\n",
        "         ('Internacional',21\t,14\t,6\t,3\t,5\t,13\t,16\t,-3\t,50.0),\n",
        "         ('Athletico-PR',20\t,14\t,6\t,2\t,6\t,18\t,18\t,0\t,47.0),\n",
        "         ('Atlético-MG',20\t,14\t,5\t,5\t,4\t,18\t,14\t,4\t,47.0),\n",
        "         ('Santos',16\t,14\t,4\t,4\t,6\t,15\t,19\t,-4\t,38.0),\n",
        "         ('Cuiabá',16\t,14\t,4\t,4\t,6\t,13\t,17\t,-4\t,38.0),\n",
        "         ('Corinthians',15\t,14\t,4\t,3\t,7\t,12\t,17\t,-5\t,35.0),\n",
        "         ('Bahia',13\t,14\t,3\t,4\t,7\t,15\t,21\t,-6\t,30.0),\n",
        "         ('Goiás',11\t,14\t,3\t,2\t,9\t,14\t,26\t,-12\t,26.0),\n",
        "         ('Coritiba',10\t,14\t,2\t,4\t,8\t,14\t,28\t,-14\t,23.0),\n",
        "         ('América-MG',9\t,14\t,2\t,3\t,9\t,11\t,23\t,-12\t,21.0),\n",
        "         ('Vasco', 9\t,14\t,2\t,3\t,9\t,16\t,32\t,-16\t,21.0)\n",
        "]"
      ]
    },
    {
      "cell_type": "markdown",
      "metadata": {
        "id": "euIRTVk7dxNN"
      },
      "source": [
        "## **Criando dataframe com PySpark**"
      ]
    },
    {
      "cell_type": "code",
      "execution_count": null,
      "metadata": {
        "id": "wZi58LtOewpI"
      },
      "outputs": [],
      "source": [
        "# criando dataframe com dados e estrutura criada\n",
        "dfx = spark.createDataFrame(data=dados, schema=estrutura)"
      ]
    },
    {
      "cell_type": "code",
      "execution_count": null,
      "metadata": {
        "colab": {
          "base_uri": "https://localhost:8080/"
        },
        "id": "7NaWfepxfOra",
        "outputId": "751000e7-e366-40a5-8ff0-9a899c5355fa"
      },
      "outputs": [
        {
          "name": "stdout",
          "output_type": "stream",
          "text": [
            "+-------------+------+-----+-------+------+-------+--------+-----------+----------+--------------+\n",
            "|         time|pontos|jogos|vitória|empate|derrota|gols_pro|gols_contra|gols_saldo|aproveitamento|\n",
            "+-------------+------+-----+-------+------+-------+--------+-----------+----------+--------------+\n",
            "|     Botafogo|    36|   14|     12|     0|      2|      24|          7|        17|          85.0|\n",
            "|     Flamengo|    26|   14|      8|     2|      4|      27|         18|         9|          61.0|\n",
            "|       Grêmio|    26|   14|      8|     2|      4|      24|         20|         4|          61.0|\n",
            "|   Fluminense|    24|   14|      7|     3|      4|      21|         14|         7|          57.0|\n",
            "|    Palmeiras|    24|   14|      6|     6|      2|      25|         13|        12|          57.0|\n",
            "|   Bragantino|    24|   14|      6|     6|      2|      22|         14|         8|          57.0|\n",
            "|    Fortaleza|    23|   14|      6|     5|      3|      16|         11|         5|          54.0|\n",
            "|    São Paulo|    22|   14|      6|     4|      4|      18|         13|         5|          52.0|\n",
            "|     Cruzeiro|    21|   14|      6|     3|      5|      16|         11|         5|          50.0|\n",
            "|Internacional|    21|   14|      6|     3|      5|      13|         16|        -3|          50.0|\n",
            "| Athletico-PR|    20|   14|      6|     2|      6|      18|         18|         0|          47.0|\n",
            "|  Atlético-MG|    20|   14|      5|     5|      4|      18|         14|         4|          47.0|\n",
            "|       Santos|    16|   14|      4|     4|      6|      15|         19|        -4|          38.0|\n",
            "|       Cuiabá|    16|   14|      4|     4|      6|      13|         17|        -4|          38.0|\n",
            "|  Corinthians|    15|   14|      4|     3|      7|      12|         17|        -5|          35.0|\n",
            "|        Bahia|    13|   14|      3|     4|      7|      15|         21|        -6|          30.0|\n",
            "|        Goiás|    11|   14|      3|     2|      9|      14|         26|       -12|          26.0|\n",
            "|     Coritiba|    10|   14|      2|     4|      8|      14|         28|       -14|          23.0|\n",
            "|   América-MG|     9|   14|      2|     3|      9|      11|         23|       -12|          21.0|\n",
            "|        Vasco|     9|   14|      2|     3|      9|      16|         32|       -16|          21.0|\n",
            "+-------------+------+-----+-------+------+-------+--------+-----------+----------+--------------+\n",
            "\n"
          ]
        }
      ],
      "source": [
        "# exibindo dataframe com show\n",
        "dfx.show()"
      ]
    },
    {
      "cell_type": "code",
      "execution_count": null,
      "metadata": {
        "colab": {
          "base_uri": "https://localhost:8080/"
        },
        "id": "G9pWmunCfn5M",
        "outputId": "501eca71-0c0c-4168-d31c-f485070a2964"
      },
      "outputs": [
        {
          "name": "stdout",
          "output_type": "stream",
          "text": [
            "root\n",
            " |-- time: string (nullable = true)\n",
            " |-- pontos: integer (nullable = true)\n",
            " |-- jogos: integer (nullable = true)\n",
            " |-- vitória: integer (nullable = true)\n",
            " |-- empate: integer (nullable = true)\n",
            " |-- derrota: integer (nullable = true)\n",
            " |-- gols_pro: integer (nullable = true)\n",
            " |-- gols_contra: integer (nullable = true)\n",
            " |-- gols_saldo: integer (nullable = true)\n",
            " |-- aproveitamento: double (nullable = true)\n",
            "\n"
          ]
        }
      ],
      "source": [
        "# exibindo Schema\n",
        "dfx.printSchema()"
      ]
    },
    {
      "cell_type": "markdown",
      "metadata": {
        "id": "emgwyYw7gi2r"
      },
      "source": [
        "## **Describe | Summary**"
      ]
    },
    {
      "cell_type": "code",
      "execution_count": null,
      "metadata": {
        "colab": {
          "base_uri": "https://localhost:8080/",
          "height": 269
        },
        "id": "DbNJ7nCNi5a7",
        "outputId": "89094f84-a4e6-4293-a615-4f077b17efca"
      },
      "outputs": [
        {
          "data": {
            "text/html": [
              "<table border='1'>\n",
              "<tr><th>summary</th><th>time</th><th>pontos</th><th>jogos</th><th>vitória</th><th>empate</th><th>derrota</th><th>gols_pro</th><th>gols_contra</th><th>gols_saldo</th><th>aproveitamento</th></tr>\n",
              "<tr><td>count</td><td>20</td><td>20</td><td>20</td><td>20</td><td>20</td><td>20</td><td>20</td><td>20</td><td>20</td><td>20</td></tr>\n",
              "<tr><td>mean</td><td>null</td><td>19.3</td><td>14.0</td><td>5.3</td><td>3.4</td><td>5.3</td><td>17.6</td><td>17.6</td><td>0.0</td><td>45.5</td></tr>\n",
              "<tr><td>stddev</td><td>null</td><td>6.92136281074</td><td>0.0</td><td>2.4516374764204993</td><td>1.465390194130093</td><td>2.3192557789991715</td><td>4.706099066217435</td><td>6.150738081512529</td><td>9.107544587925586</td><td>16.458880181898934</td></tr>\n",
              "<tr><td>min</td><td>América-MG</td><td>9</td><td>14</td><td>2</td><td>0</td><td>2</td><td>11</td><td>7</td><td>-16</td><td>21.0</td></tr>\n",
              "<tr><td>25%</td><td>null</td><td>13</td><td>14</td><td>3</td><td>2</td><td>4</td><td>14</td><td>13</td><td>-6</td><td>30.0</td></tr>\n",
              "<tr><td>50%</td><td>null</td><td>20</td><td>14</td><td>6</td><td>3</td><td>5</td><td>16</td><td>17</td><td>0</td><td>47.0</td></tr>\n",
              "<tr><td>75%</td><td>null</td><td>24</td><td>14</td><td>6</td><td>4</td><td>7</td><td>21</td><td>20</td><td>5</td><td>57.0</td></tr>\n",
              "<tr><td>max</td><td>Vasco</td><td>36</td><td>14</td><td>12</td><td>6</td><td>9</td><td>27</td><td>32</td><td>17</td><td>85.0</td></tr>\n",
              "</table>\n"
            ],
            "text/plain": [
              "+-------+----------+-------------+-----+------------------+-----------------+------------------+-----------------+-----------------+-----------------+------------------+\n",
              "|summary|      time|       pontos|jogos|           vitória|           empate|           derrota|         gols_pro|      gols_contra|       gols_saldo|    aproveitamento|\n",
              "+-------+----------+-------------+-----+------------------+-----------------+------------------+-----------------+-----------------+-----------------+------------------+\n",
              "|  count|        20|           20|   20|                20|               20|                20|               20|               20|               20|                20|\n",
              "|   mean|      null|         19.3| 14.0|               5.3|              3.4|               5.3|             17.6|             17.6|              0.0|              45.5|\n",
              "| stddev|      null|6.92136281074|  0.0|2.4516374764204993|1.465390194130093|2.3192557789991715|4.706099066217435|6.150738081512529|9.107544587925586|16.458880181898934|\n",
              "|    min|América-MG|            9|   14|                 2|                0|                 2|               11|                7|              -16|              21.0|\n",
              "|    25%|      null|           13|   14|                 3|                2|                 4|               14|               13|               -6|              30.0|\n",
              "|    50%|      null|           20|   14|                 6|                3|                 5|               16|               17|                0|              47.0|\n",
              "|    75%|      null|           24|   14|                 6|                4|                 7|               21|               20|                5|              57.0|\n",
              "|    max|     Vasco|           36|   14|                12|                6|                 9|               27|               32|               17|              85.0|\n",
              "+-------+----------+-------------+-----+------------------+-----------------+------------------+-----------------+-----------------+-----------------+------------------+"
            ]
          },
          "execution_count": 11,
          "metadata": {},
          "output_type": "execute_result"
        }
      ],
      "source": [
        "# exibindo medidas estatística com summary\n",
        "dfx.summary()"
      ]
    },
    {
      "cell_type": "code",
      "execution_count": null,
      "metadata": {
        "colab": {
          "base_uri": "https://localhost:8080/",
          "height": 199
        },
        "id": "BkHh-G6Dfp01",
        "outputId": "9ae4f958-2f59-474a-b952-8cd9814daca1"
      },
      "outputs": [
        {
          "data": {
            "text/html": [
              "<table border='1'>\n",
              "<tr><th>summary</th><th>time</th><th>pontos</th><th>jogos</th><th>vitória</th><th>empate</th><th>derrota</th><th>gols_pro</th><th>gols_contra</th><th>gols_saldo</th><th>aproveitamento</th></tr>\n",
              "<tr><td>count</td><td>20</td><td>20</td><td>20</td><td>20</td><td>20</td><td>20</td><td>20</td><td>20</td><td>20</td><td>20</td></tr>\n",
              "<tr><td>mean</td><td>null</td><td>19.3</td><td>14.0</td><td>5.3</td><td>3.4</td><td>5.3</td><td>17.6</td><td>17.6</td><td>0.0</td><td>45.5</td></tr>\n",
              "<tr><td>stddev</td><td>null</td><td>6.92136281074</td><td>0.0</td><td>2.4516374764204993</td><td>1.465390194130093</td><td>2.3192557789991715</td><td>4.706099066217435</td><td>6.150738081512529</td><td>9.107544587925586</td><td>16.458880181898934</td></tr>\n",
              "<tr><td>min</td><td>América-MG</td><td>9</td><td>14</td><td>2</td><td>0</td><td>2</td><td>11</td><td>7</td><td>-16</td><td>21.0</td></tr>\n",
              "<tr><td>max</td><td>Vasco</td><td>36</td><td>14</td><td>12</td><td>6</td><td>9</td><td>27</td><td>32</td><td>17</td><td>85.0</td></tr>\n",
              "</table>\n"
            ],
            "text/plain": [
              "+-------+----------+-------------+-----+------------------+-----------------+------------------+-----------------+-----------------+-----------------+------------------+\n",
              "|summary|      time|       pontos|jogos|           vitória|           empate|           derrota|         gols_pro|      gols_contra|       gols_saldo|    aproveitamento|\n",
              "+-------+----------+-------------+-----+------------------+-----------------+------------------+-----------------+-----------------+-----------------+------------------+\n",
              "|  count|        20|           20|   20|                20|               20|                20|               20|               20|               20|                20|\n",
              "|   mean|      null|         19.3| 14.0|               5.3|              3.4|               5.3|             17.6|             17.6|              0.0|              45.5|\n",
              "| stddev|      null|6.92136281074|  0.0|2.4516374764204993|1.465390194130093|2.3192557789991715|4.706099066217435|6.150738081512529|9.107544587925586|16.458880181898934|\n",
              "|    min|América-MG|            9|   14|                 2|                0|                 2|               11|                7|              -16|              21.0|\n",
              "|    max|     Vasco|           36|   14|                12|                6|                 9|               27|               32|               17|              85.0|\n",
              "+-------+----------+-------------+-----+------------------+-----------------+------------------+-----------------+-----------------+-----------------+------------------+"
            ]
          },
          "execution_count": 12,
          "metadata": {},
          "output_type": "execute_result"
        }
      ],
      "source": [
        "# exibindo descrição com estatísticas para o dataframe com describe\n",
        "dfx.describe()"
      ]
    },
    {
      "cell_type": "code",
      "execution_count": null,
      "metadata": {
        "id": "bTBPv39pg6sg"
      },
      "outputs": [],
      "source": [
        "# passando os dados em um novo dataframe\n",
        "edescritiva = dfx.describe()"
      ]
    },
    {
      "cell_type": "markdown",
      "metadata": {
        "id": "1gkORCCZiVAo"
      },
      "source": [
        "## **Lista desvio-padrão**"
      ]
    },
    {
      "cell_type": "code",
      "execution_count": null,
      "metadata": {
        "id": "xnUEINEshLQ4"
      },
      "outputs": [],
      "source": [
        "# extraindo linha com desvio padrão do dataframe\n",
        "row_sd = edescritiva.select('*').where( f.col('summary')== 'stddev').collect()"
      ]
    },
    {
      "cell_type": "code",
      "execution_count": null,
      "metadata": {
        "colab": {
          "base_uri": "https://localhost:8080/"
        },
        "id": "iuYYILFyiuSv",
        "outputId": "e07ab750-2140-494c-f1c3-f02ecf0e3a7f"
      },
      "outputs": [
        {
          "name": "stdout",
          "output_type": "stream",
          "text": [
            "[Row(summary='stddev', time=None, pontos='6.92136281074', jogos='0.0', vitória='2.4516374764204993', empate='1.465390194130093', derrota='2.3192557789991715', gols_pro='4.706099066217435', gols_contra='6.150738081512529', gols_saldo='9.107544587925586', aproveitamento='16.458880181898934')]\n"
          ]
        }
      ],
      "source": [
        "# exibindo linha no formato de lista coletada\n",
        "print(row_sd)"
      ]
    },
    {
      "cell_type": "code",
      "execution_count": null,
      "metadata": {
        "id": "jRIo1aZrkfhG"
      },
      "outputs": [],
      "source": [
        "# selecionando valores para lista sd\n",
        "sd = list(row_sd[0][2:])"
      ]
    },
    {
      "cell_type": "code",
      "execution_count": null,
      "metadata": {
        "colab": {
          "base_uri": "https://localhost:8080/"
        },
        "id": "hLz7lNMQkzIw",
        "outputId": "c379e9d0-299e-4693-f5cb-ec2b24aed340"
      },
      "outputs": [
        {
          "name": "stdout",
          "output_type": "stream",
          "text": [
            "['6.92136281074', '0.0', '2.4516374764204993', '1.465390194130093', '2.3192557789991715', '4.706099066217435', '6.150738081512529', '9.107544587925586', '16.458880181898934']\n"
          ]
        },
        {
          "data": {
            "text/plain": [
              "list"
            ]
          },
          "execution_count": 17,
          "metadata": {},
          "output_type": "execute_result"
        }
      ],
      "source": [
        "# exibindo valores na lista sd\n",
        "print(sd)\n",
        "# exibindo tipo de dados da lista sd\n",
        "type(sd)"
      ]
    },
    {
      "cell_type": "markdown",
      "metadata": {
        "id": "gELq2OhKlUNw"
      },
      "source": [
        "## **Lista variância**"
      ]
    },
    {
      "cell_type": "code",
      "execution_count": null,
      "metadata": {
        "id": "OyCQO4VnlKYr"
      },
      "outputs": [],
      "source": [
        "# criando lista vazia de nome var\n",
        "var = []\n",
        "# laço FOR\n",
        "for n in sd:\n",
        "  # verificação do tipo de dado\n",
        "  if type(n) != type(float):\n",
        "    try:\n",
        "      # conversão em float\n",
        "      n = float(n)\n",
        "      var.append(n**2)\n",
        "    except:\n",
        "      # sinalização do erro\n",
        "      print(f'Erro em {n}!')\n",
        "  else:\n",
        "     var.append(n**2)"
      ]
    },
    {
      "cell_type": "code",
      "execution_count": null,
      "metadata": {
        "colab": {
          "base_uri": "https://localhost:8080/"
        },
        "id": "qH6wxJupmDuw",
        "outputId": "e7868ad9-b01d-4cb1-92ca-8a55f2ffea7d"
      },
      "outputs": [
        {
          "name": "stdout",
          "output_type": "stream",
          "text": [
            "[47.90526315789471, 0.0, 6.010526315789474, 2.147368421052632, 5.378947368421054, 22.147368421052615, 37.83157894736842, 82.94736842105264, 270.8947368421055]\n",
            "47.90526315789471: <class 'float'>\n",
            "0.0: <class 'float'>\n",
            "6.010526315789474: <class 'float'>\n",
            "2.147368421052632: <class 'float'>\n",
            "5.378947368421054: <class 'float'>\n",
            "22.147368421052615: <class 'float'>\n",
            "37.83157894736842: <class 'float'>\n",
            "82.94736842105264: <class 'float'>\n",
            "270.8947368421055: <class 'float'>\n"
          ]
        }
      ],
      "source": [
        "# exibição da lista com a variância\n",
        "print(var)\n",
        "# exibição da variância\n",
        "for n in var:\n",
        "  print( f'{n}: {type(n)}')"
      ]
    },
    {
      "cell_type": "markdown",
      "metadata": {
        "id": "Vv_LyGVb8pKB"
      },
      "source": [
        "## **Criação do dataframe**"
      ]
    },
    {
      "cell_type": "code",
      "execution_count": null,
      "metadata": {
        "colab": {
          "base_uri": "https://localhost:8080/"
        },
        "id": "jtbmSEAlqqms",
        "outputId": "866c002f-65e3-418c-b428-774de0879ffa"
      },
      "outputs": [
        {
          "name": "stdout",
          "output_type": "stream",
          "text": [
            "['6.92136281074', '0.0', '2.4516374764204993', '1.465390194130093', '2.3192557789991715', '4.706099066217435', '6.150738081512529', '9.107544587925586', '16.458880181898934']\n",
            "[47.90526315789471, 0.0, 6.010526315789474, 2.147368421052632, 5.378947368421054, 22.147368421052615, 37.83157894736842, 82.94736842105264, 270.8947368421055]\n"
          ]
        }
      ],
      "source": [
        "# exibição da lista desvio padrão\n",
        "print(sd)\n",
        "# exibição da lista variância\n",
        "print(var)"
      ]
    },
    {
      "cell_type": "code",
      "execution_count": null,
      "metadata": {
        "id": "6WCU50-j9umV"
      },
      "outputs": [],
      "source": [
        "# extração de colunas do dataframe inicial\n",
        "xcols = dfx.columns[1:]"
      ]
    },
    {
      "cell_type": "code",
      "execution_count": null,
      "metadata": {
        "id": "1gkct18Y9Ano"
      },
      "outputs": [],
      "source": [
        "# criação do dataframe desvio-padrão\n",
        "df_sd = spark.createDataFrame([sd], xcols)"
      ]
    },
    {
      "cell_type": "code",
      "execution_count": null,
      "metadata": {
        "colab": {
          "base_uri": "https://localhost:8080/"
        },
        "id": "_r1ZYxc59PK0",
        "outputId": "99d2b3e7-b017-4047-e25b-8ea8aeba626e"
      },
      "outputs": [
        {
          "name": "stdout",
          "output_type": "stream",
          "text": [
            "+-------------+-----+------------------+-----------------+------------------+-----------------+-----------------+-----------------+------------------+\n",
            "|       pontos|jogos|           vitória|           empate|           derrota|         gols_pro|      gols_contra|       gols_saldo|    aproveitamento|\n",
            "+-------------+-----+------------------+-----------------+------------------+-----------------+-----------------+-----------------+------------------+\n",
            "|6.92136281074|  0.0|2.4516374764204993|1.465390194130093|2.3192557789991715|4.706099066217435|6.150738081512529|9.107544587925586|16.458880181898934|\n",
            "+-------------+-----+------------------+-----------------+------------------+-----------------+-----------------+-----------------+------------------+\n",
            "\n"
          ]
        }
      ],
      "source": [
        "# exibição do dataframe\n",
        "df_sd.show()"
      ]
    },
    {
      "cell_type": "code",
      "execution_count": null,
      "metadata": {
        "id": "cJaasGug-fjS"
      },
      "outputs": [],
      "source": [
        "# criação do dataframe variância\n",
        "df_var = spark.createDataFrame([var], xcols)"
      ]
    },
    {
      "cell_type": "code",
      "execution_count": null,
      "metadata": {
        "colab": {
          "base_uri": "https://localhost:8080/"
        },
        "id": "aN3Wh_AX-qp3",
        "outputId": "c994d3e6-b552-4daa-b417-9fea971f5765"
      },
      "outputs": [
        {
          "name": "stdout",
          "output_type": "stream",
          "text": [
            "+-----------------+-----+-----------------+-----------------+-----------------+------------------+-----------------+-----------------+-----------------+\n",
            "|           pontos|jogos|          vitória|           empate|          derrota|          gols_pro|      gols_contra|       gols_saldo|   aproveitamento|\n",
            "+-----------------+-----+-----------------+-----------------+-----------------+------------------+-----------------+-----------------+-----------------+\n",
            "|47.90526315789471|  0.0|6.010526315789474|2.147368421052632|5.378947368421054|22.147368421052615|37.83157894736842|82.94736842105264|270.8947368421055|\n",
            "+-----------------+-----+-----------------+-----------------+-----------------+------------------+-----------------+-----------------+-----------------+\n",
            "\n"
          ]
        }
      ],
      "source": [
        "# exibição do dataframe\n",
        "df_var.show()"
      ]
    },
    {
      "cell_type": "markdown",
      "metadata": {
        "id": "P8DOqWmF_J16"
      },
      "source": [
        "## **Agrupamento de Dataframes**"
      ]
    },
    {
      "cell_type": "code",
      "execution_count": null,
      "metadata": {
        "id": "oQYX20HjOE4u"
      },
      "outputs": [],
      "source": [
        "# inserindo sumário nos dataframes antes da união\n",
        "df_sd = df_sd.withColumn( 'summary', f.expr(\"'desvio-padrão'\"))\n",
        "df_var = df_var.withColumn( 'summary', f.expr(\"'variância'\"))\n",
        "\n",
        "# inserindo summary na lista de colunas\n",
        "xcols.insert(0, 'summary')\n",
        "\n",
        "# reordenando dataframes\n",
        "df_sd = df_sd.select(xcols)\n",
        "df_var = df_var.select(xcols)"
      ]
    },
    {
      "cell_type": "code",
      "execution_count": null,
      "metadata": {
        "id": "uMYueM3tAZUZ"
      },
      "outputs": [],
      "source": [
        "# união dataframes\n",
        "df_sd_var = df_sd.union(df_var)"
      ]
    },
    {
      "cell_type": "code",
      "execution_count": null,
      "metadata": {
        "colab": {
          "base_uri": "https://localhost:8080/"
        },
        "id": "SW5DJ-kKBlnW",
        "outputId": "9504f092-deec-4053-bfc5-5a46dafd930d"
      },
      "outputs": [
        {
          "name": "stdout",
          "output_type": "stream",
          "text": [
            "+-------------+-----------------+-----+------------------+-----------------+------------------+------------------+-----------------+-----------------+------------------+\n",
            "|      summary|           pontos|jogos|           vitória|           empate|           derrota|          gols_pro|      gols_contra|       gols_saldo|    aproveitamento|\n",
            "+-------------+-----------------+-----+------------------+-----------------+------------------+------------------+-----------------+-----------------+------------------+\n",
            "|desvio-padrão|    6.92136281074|  0.0|2.4516374764204993|1.465390194130093|2.3192557789991715| 4.706099066217435|6.150738081512529|9.107544587925586|16.458880181898934|\n",
            "|    variância|47.90526315789471|  0.0| 6.010526315789474|2.147368421052632| 5.378947368421054|22.147368421052615|37.83157894736842|82.94736842105264| 270.8947368421055|\n",
            "+-------------+-----------------+-----+------------------+-----------------+------------------+------------------+-----------------+-----------------+------------------+\n",
            "\n"
          ]
        }
      ],
      "source": [
        "# exibição do dataframe desvio e variancia\n",
        "df_sd_var.show()"
      ]
    },
    {
      "cell_type": "markdown",
      "metadata": {
        "id": "ohxXVTT3QL-X"
      },
      "source": [
        "## **Dataframe Medidas**"
      ]
    },
    {
      "cell_type": "code",
      "execution_count": null,
      "metadata": {
        "id": "6V8_RAbVP-df"
      },
      "outputs": [],
      "source": [
        "# criação de dataframe com medidas estatísticas\n",
        "medidas = dfx.summary()"
      ]
    },
    {
      "cell_type": "code",
      "execution_count": null,
      "metadata": {
        "id": "bu34HjSVQROH"
      },
      "outputs": [],
      "source": [
        "# exclusão de coluna com medida qualitativa\n",
        "medidas = medidas.drop('time')"
      ]
    },
    {
      "cell_type": "code",
      "execution_count": null,
      "metadata": {
        "id": "kVygoDZdQSSD"
      },
      "outputs": [],
      "source": [
        "# adição da medida de variância para cada atributo\n",
        "medidas = medidas.union(df_var)"
      ]
    },
    {
      "cell_type": "code",
      "execution_count": null,
      "metadata": {
        "colab": {
          "base_uri": "https://localhost:8080/"
        },
        "id": "tXu39LfCQWwT",
        "outputId": "35dffe41-1db2-4f03-b434-cf0f799106ef"
      },
      "outputs": [
        {
          "name": "stdout",
          "output_type": "stream",
          "text": [
            "+---------+-----------------+-----+------------------+-----------------+------------------+------------------+-----------------+-----------------+------------------+\n",
            "|  summary|           pontos|jogos|           vitória|           empate|           derrota|          gols_pro|      gols_contra|       gols_saldo|    aproveitamento|\n",
            "+---------+-----------------+-----+------------------+-----------------+------------------+------------------+-----------------+-----------------+------------------+\n",
            "|    count|               20|   20|                20|               20|                20|                20|               20|               20|                20|\n",
            "|     mean|             19.3| 14.0|               5.3|              3.4|               5.3|              17.6|             17.6|              0.0|              45.5|\n",
            "|   stddev|    6.92136281074|  0.0|2.4516374764204993|1.465390194130093|2.3192557789991715| 4.706099066217435|6.150738081512529|9.107544587925586|16.458880181898934|\n",
            "|      min|                9|   14|                 2|                0|                 2|                11|                7|              -16|              21.0|\n",
            "|      25%|               13|   14|                 3|                2|                 4|                14|               13|               -6|              30.0|\n",
            "|      50%|               20|   14|                 6|                3|                 5|                16|               17|                0|              47.0|\n",
            "|      75%|               24|   14|                 6|                4|                 7|                21|               20|                5|              57.0|\n",
            "|      max|               36|   14|                12|                6|                 9|                27|               32|               17|              85.0|\n",
            "|variância|47.90526315789471|  0.0| 6.010526315789474|2.147368421052632| 5.378947368421054|22.147368421052615|37.83157894736842|82.94736842105264| 270.8947368421055|\n",
            "+---------+-----------------+-----+------------------+-----------------+------------------+------------------+-----------------+-----------------+------------------+\n",
            "\n"
          ]
        }
      ],
      "source": [
        "# exibição da tabela\n",
        "medidas.show()"
      ]
    },
    {
      "cell_type": "markdown",
      "metadata": {
        "id": "MV20977MQxnO"
      },
      "source": [
        "## **Moda**"
      ]
    },
    {
      "cell_type": "code",
      "execution_count": null,
      "metadata": {
        "id": "zeCKJOJwRno7"
      },
      "outputs": [],
      "source": [
        "# calcular a moda de todas as colunas\n",
        "df = dfx\n",
        "columns = df.columns\n",
        "mode_values = {}\n",
        "\n",
        "for column in columns:\n",
        "    mode_df = df.groupBy(column).count().sort(f.col(\"count\").desc()).limit(1)\n",
        "    mode_value = mode_df.select(column).first()[0]\n",
        "    mode_values[column] = mode_value"
      ]
    },
    {
      "cell_type": "code",
      "execution_count": null,
      "metadata": {
        "id": "1PU2h3nLSejj"
      },
      "outputs": [],
      "source": [
        "# criação df\n",
        "df_mode = spark.createDataFrame([mode_values])"
      ]
    },
    {
      "cell_type": "code",
      "execution_count": null,
      "metadata": {
        "id": "ixNUuC2LTtff"
      },
      "outputs": [],
      "source": [
        "# ajuste lista\n",
        "dfz = medidas.drop('summary')\n",
        "zcols = dfz.columns"
      ]
    },
    {
      "cell_type": "code",
      "execution_count": null,
      "metadata": {
        "id": "HFidjjqxS8gY"
      },
      "outputs": [],
      "source": [
        "# ordenação e seleção de colunas\n",
        "df_mode = df_mode.select(zcols)"
      ]
    },
    {
      "cell_type": "code",
      "execution_count": null,
      "metadata": {
        "id": "LNk_TDEAUFpn"
      },
      "outputs": [],
      "source": [
        "# adição de coluna e valor\n",
        "dfm = df_mode.withColumn('summary', f.expr(\"'moda'\"))"
      ]
    },
    {
      "cell_type": "code",
      "execution_count": null,
      "metadata": {
        "id": "G59A1piHWl-x"
      },
      "outputs": [],
      "source": [
        "# reordenação e inserção de valor na lista de colunas\n",
        "zcols.insert(0, \"summary\")"
      ]
    },
    {
      "cell_type": "code",
      "execution_count": null,
      "metadata": {
        "id": "H3_evF65UQiZ"
      },
      "outputs": [],
      "source": [
        "# seleção e ordenação de colunas\n",
        "dfm = dfm.select(zcols)"
      ]
    },
    {
      "cell_type": "code",
      "execution_count": null,
      "metadata": {
        "id": "mWIzEFTeXEvR"
      },
      "outputs": [],
      "source": [
        "# adição da moda ao df de medidas estatísticas\n",
        "estatisticas = medidas.union(dfm)"
      ]
    },
    {
      "cell_type": "code",
      "execution_count": null,
      "metadata": {
        "colab": {
          "base_uri": "https://localhost:8080/"
        },
        "id": "vOoaqvuhXNBA",
        "outputId": "d408eac7-9d66-478c-e826-f9d01d038940"
      },
      "outputs": [
        {
          "name": "stdout",
          "output_type": "stream",
          "text": [
            "+---------+-----------------+-----+------------------+-----------------+------------------+------------------+-----------------+-----------------+------------------+\n",
            "|  summary|           pontos|jogos|           vitória|           empate|           derrota|          gols_pro|      gols_contra|       gols_saldo|    aproveitamento|\n",
            "+---------+-----------------+-----+------------------+-----------------+------------------+------------------+-----------------+-----------------+------------------+\n",
            "|    count|               20|   20|                20|               20|                20|                20|               20|               20|                20|\n",
            "|     mean|             19.3| 14.0|               5.3|              3.4|               5.3|              17.6|             17.6|              0.0|              45.5|\n",
            "|   stddev|    6.92136281074|  0.0|2.4516374764204993|1.465390194130093|2.3192557789991715| 4.706099066217435|6.150738081512529|9.107544587925586|16.458880181898934|\n",
            "|      min|                9|   14|                 2|                0|                 2|                11|                7|              -16|              21.0|\n",
            "|      25%|               13|   14|                 3|                2|                 4|                14|               13|               -6|              30.0|\n",
            "|      50%|               20|   14|                 6|                3|                 5|                16|               17|                0|              47.0|\n",
            "|      75%|               24|   14|                 6|                4|                 7|                21|               20|                5|              57.0|\n",
            "|      max|               36|   14|                12|                6|                 9|                27|               32|               17|              85.0|\n",
            "|variância|47.90526315789471|  0.0| 6.010526315789474|2.147368421052632| 5.378947368421054|22.147368421052615|37.83157894736842|82.94736842105264| 270.8947368421055|\n",
            "|     moda|               24|   14|                 6|                3|                 4|                16|               14|                5|              57.0|\n",
            "+---------+-----------------+-----+------------------+-----------------+------------------+------------------+-----------------+-----------------+------------------+\n",
            "\n"
          ]
        }
      ],
      "source": [
        "# exibição do dataframe de medidas estatísticas\n",
        "estatisticas.show()"
      ]
    },
    {
      "cell_type": "markdown",
      "metadata": {
        "id": "Ya2imbDvsLGA"
      },
      "source": [
        "## **Estatísticas descritivas**"
      ]
    },
    {
      "cell_type": "code",
      "execution_count": null,
      "metadata": {
        "id": "C6G53BFfsPJF"
      },
      "outputs": [],
      "source": [
        "# seleção de listas para os cálculos\n",
        "q1 = list(((estatisticas.select('*').where( f.col('summary')== '25%').collect())[0][1:]))\n",
        "q3 = list((estatisticas.select('*').where( f.col('summary')== '75%').collect())[0][1:])\n",
        "min = list((estatisticas.select('*').where( f.col('summary')== 'min').collect())[0][1:])\n",
        "max = list((estatisticas.select('*').where( f.col('summary')== 'max').collect())[0][1:])"
      ]
    },
    {
      "cell_type": "code",
      "execution_count": null,
      "metadata": {
        "id": "sDafjN9uvrDr"
      },
      "outputs": [],
      "source": [
        "# criação de listas vazias para alocar as novas medidas\n",
        "at = []\n",
        "aiq = []\n",
        "ls = []\n",
        "li = []"
      ]
    },
    {
      "cell_type": "code",
      "execution_count": null,
      "metadata": {
        "id": "aiAmQQBhvoK_"
      },
      "outputs": [],
      "source": [
        "# calculando numero de colunas com valores quantitativos\n",
        "e_len = len(estatisticas.columns[1:])\n",
        "\n",
        "# cálculos de novas medidas em um laço FOR\n",
        "for i in range(e_len):\n",
        "  at.append((float(max[i]))-(float(min[i])))\n",
        "  aiq.append((float(q3[i]))-(float(q1[i])))\n",
        "  ls.append((float(q3[i]))+(1.5*(float(aiq[i]))))\n",
        "  li.append((float(q1[i]))-(1.5*(float(aiq[i]))))"
      ]
    },
    {
      "cell_type": "code",
      "execution_count": null,
      "metadata": {
        "id": "Ak759kpovmMx"
      },
      "outputs": [],
      "source": [
        "# inserindo index nas listas\n",
        "at.insert(0, 'amplitude total')\n",
        "aiq.insert(0, 'amplitude interquartílica')\n",
        "ls.insert(0, 'limite superior')\n",
        "li.insert(0, 'limite inferior')"
      ]
    },
    {
      "cell_type": "code",
      "execution_count": null,
      "metadata": {
        "id": "RI3b1M2xviBB"
      },
      "outputs": [],
      "source": [
        "# passando valores com withColumn\n",
        "df_at = spark.createDataFrame([at], zcols)\n",
        "df_aiq = spark.createDataFrame([aiq], zcols)\n",
        "df_ls = spark.createDataFrame([ls], zcols)\n",
        "df_li = spark.createDataFrame([li], zcols)"
      ]
    },
    {
      "cell_type": "code",
      "execution_count": null,
      "metadata": {
        "id": "UWtd9c_R2KB8"
      },
      "outputs": [],
      "source": [
        "# união dos dataframes\n",
        "estatisticasFull = estatisticas \\\n",
        "                                .union(df_at) \\\n",
        "                                .union(df_aiq) \\\n",
        "                                .union(df_li) \\\n",
        "                                .union(df_ls)"
      ]
    },
    {
      "cell_type": "code",
      "execution_count": null,
      "metadata": {
        "colab": {
          "base_uri": "https://localhost:8080/"
        },
        "id": "FEao8LVg49b3",
        "outputId": "82d6c93f-cd65-4a99-fd80-a296b67adcee"
      },
      "outputs": [
        {
          "name": "stdout",
          "output_type": "stream",
          "text": [
            "+--------------------+-----------------+-----+------------------+-----------------+------------------+------------------+-----------------+-----------------+------------------+\n",
            "|             summary|           pontos|jogos|           vitória|           empate|           derrota|          gols_pro|      gols_contra|       gols_saldo|    aproveitamento|\n",
            "+--------------------+-----------------+-----+------------------+-----------------+------------------+------------------+-----------------+-----------------+------------------+\n",
            "|               count|               20|   20|                20|               20|                20|                20|               20|               20|                20|\n",
            "|                mean|             19.3| 14.0|               5.3|              3.4|               5.3|              17.6|             17.6|              0.0|              45.5|\n",
            "|              stddev|    6.92136281074|  0.0|2.4516374764204993|1.465390194130093|2.3192557789991715| 4.706099066217435|6.150738081512529|9.107544587925586|16.458880181898934|\n",
            "|                 min|                9|   14|                 2|                0|                 2|                11|                7|              -16|              21.0|\n",
            "|                 25%|               13|   14|                 3|                2|                 4|                14|               13|               -6|              30.0|\n",
            "|                 50%|               20|   14|                 6|                3|                 5|                16|               17|                0|              47.0|\n",
            "|                 75%|               24|   14|                 6|                4|                 7|                21|               20|                5|              57.0|\n",
            "|                 max|               36|   14|                12|                6|                 9|                27|               32|               17|              85.0|\n",
            "|           variância|47.90526315789471|  0.0| 6.010526315789474|2.147368421052632| 5.378947368421054|22.147368421052615|37.83157894736842|82.94736842105264| 270.8947368421055|\n",
            "|                moda|               24|   14|                 6|                3|                 4|                16|               14|                5|              57.0|\n",
            "|     amplitude total|             27.0|  0.0|              10.0|              6.0|               7.0|              16.0|             25.0|             33.0|              64.0|\n",
            "|amplitude interqu...|             11.0|  0.0|               3.0|              2.0|               3.0|               7.0|              7.0|             11.0|              27.0|\n",
            "|     limite inferior|             -3.5| 14.0|              -1.5|             -1.0|              -0.5|               3.5|              2.5|            -22.5|             -10.5|\n",
            "|     limite superior|             40.5| 14.0|              10.5|              7.0|              11.5|              31.5|             30.5|             21.5|              97.5|\n",
            "+--------------------+-----------------+-----+------------------+-----------------+------------------+------------------+-----------------+-----------------+------------------+\n",
            "\n"
          ]
        }
      ],
      "source": [
        "# exibição de estatísticas completas\n",
        "estatisticasFull.show()"
      ]
    },
    {
      "cell_type": "code",
      "execution_count": null,
      "metadata": {
        "id": "BaQ1oVQC97MS"
      },
      "outputs": [],
      "source": [
        "# ajustando nomes dos índices (rows)\n",
        "estatisticasFull = estatisticasFull.na.replace([\"count\", \"mean\", \"stddev\", \"25%\", \"50%\", \"75%\"], [\"quantidade\", \"média\", \"desvio padrão\", \"primeiro quartil\", \"mediana\", \"terceiro quartil\"])"
      ]
    },
    {
      "cell_type": "code",
      "execution_count": null,
      "metadata": {
        "id": "m0f-h8XD_UPi"
      },
      "outputs": [],
      "source": [
        "# ajustando nome dos atributos (columns)\n",
        "estatisticasFull = estatisticasFull.withColumnRenamed(\"summary\", \"descrição\")"
      ]
    },
    {
      "cell_type": "code",
      "execution_count": null,
      "metadata": {
        "colab": {
          "base_uri": "https://localhost:8080/"
        },
        "id": "6jok5fpj_Ama",
        "outputId": "c186e9e7-442b-418d-ffcc-742e2a56b93a"
      },
      "outputs": [
        {
          "name": "stdout",
          "output_type": "stream",
          "text": [
            "+--------------------+-----------------+-----+------------------+-----------------+------------------+------------------+-----------------+-----------------+------------------+\n",
            "|           descrição|           pontos|jogos|           vitória|           empate|           derrota|          gols_pro|      gols_contra|       gols_saldo|    aproveitamento|\n",
            "+--------------------+-----------------+-----+------------------+-----------------+------------------+------------------+-----------------+-----------------+------------------+\n",
            "|          quantidade|               20|   20|                20|               20|                20|                20|               20|               20|                20|\n",
            "|               média|             19.3| 14.0|               5.3|              3.4|               5.3|              17.6|             17.6|              0.0|              45.5|\n",
            "|       desvio padrão|    6.92136281074|  0.0|2.4516374764204993|1.465390194130093|2.3192557789991715| 4.706099066217435|6.150738081512529|9.107544587925586|16.458880181898934|\n",
            "|                 min|                9|   14|                 2|                0|                 2|                11|                7|              -16|              21.0|\n",
            "|    primeiro quartil|               13|   14|                 3|                2|                 4|                14|               13|               -6|              30.0|\n",
            "|             mediana|               20|   14|                 6|                3|                 5|                16|               17|                0|              47.0|\n",
            "|    terceiro quartil|               24|   14|                 6|                4|                 7|                21|               20|                5|              57.0|\n",
            "|                 max|               36|   14|                12|                6|                 9|                27|               32|               17|              85.0|\n",
            "|           variância|47.90526315789471|  0.0| 6.010526315789474|2.147368421052632| 5.378947368421054|22.147368421052615|37.83157894736842|82.94736842105264| 270.8947368421055|\n",
            "|                moda|               24|   14|                 6|                3|                 4|                16|               14|                5|              57.0|\n",
            "|     amplitude total|             27.0|  0.0|              10.0|              6.0|               7.0|              16.0|             25.0|             33.0|              64.0|\n",
            "|amplitude interqu...|             11.0|  0.0|               3.0|              2.0|               3.0|               7.0|              7.0|             11.0|              27.0|\n",
            "|     limite inferior|             -3.5| 14.0|              -1.5|             -1.0|              -0.5|               3.5|              2.5|            -22.5|             -10.5|\n",
            "|     limite superior|             40.5| 14.0|              10.5|              7.0|              11.5|              31.5|             30.5|             21.5|              97.5|\n",
            "+--------------------+-----------------+-----+------------------+-----------------+------------------+------------------+-----------------+-----------------+------------------+\n",
            "\n"
          ]
        }
      ],
      "source": [
        "# exibindo alterações\n",
        "estatisticasFull.show()"
      ]
    },
    {
      "cell_type": "markdown",
      "metadata": {
        "id": "z9mEOGIdqzla"
      },
      "source": [
        "### *Alternativas*"
      ]
    },
    {
      "cell_type": "code",
      "execution_count": null,
      "metadata": {
        "colab": {
          "base_uri": "https://localhost:8080/"
        },
        "id": "kMemCv4J7zPm",
        "outputId": "97196ed3-0df1-4582-f0b9-cac09179f705"
      },
      "outputs": [
        {
          "data": {
            "text/plain": [
              "[[13.0, 20.0, 24.0], [3.0, 6.0, 6.0], [-6.0, 0.0, 5.0]]"
            ]
          },
          "execution_count": 55,
          "metadata": {},
          "output_type": "execute_result"
        }
      ],
      "source": [
        "# obtendo quartis com a função do PySpark approxQuantile()\n",
        "quartis = dfx.approxQuantile(['pontos', 'vitória', 'gols_saldo'], [0.25, 0.50, 0.75], 0)\n",
        "quartis"
      ]
    },
    {
      "cell_type": "code",
      "execution_count": null,
      "metadata": {
        "id": "fGUx3KEUXxVi"
      },
      "outputs": [],
      "source": [
        "# extraindo quartis, conforme posiçao e ordem passadas\n",
        "primeiro_quartil = [quartis[0][0], quartis[0][1], quartis[0][2]]\n",
        "mediana = [quartis[1][0], quartis[1][1], quartis[1][2]]\n",
        "terceiro_quartil = [quartis[2][0], quartis[2][1], quartis[2][2]]"
      ]
    },
    {
      "cell_type": "code",
      "execution_count": null,
      "metadata": {
        "colab": {
          "base_uri": "https://localhost:8080/",
          "height": 114
        },
        "id": "BChIxlWwv1TE",
        "outputId": "436bea2e-65ce-49bc-a088-3eef79cf955f"
      },
      "outputs": [
        {
          "data": {
            "text/html": [
              "<table border='1'>\n",
              "<tr><th>summary</th><th>pontos</th><th>vitória</th><th>gols_saldo</th></tr>\n",
              "<tr><td>25%</td><td>13</td><td>3</td><td>-6</td></tr>\n",
              "<tr><td>50%</td><td>20</td><td>6</td><td>0</td></tr>\n",
              "<tr><td>75%</td><td>24</td><td>6</td><td>5</td></tr>\n",
              "</table>\n"
            ],
            "text/plain": [
              "+-------+------+-------+----------+\n",
              "|summary|pontos|vitória|gols_saldo|\n",
              "+-------+------+-------+----------+\n",
              "|    25%|    13|      3|        -6|\n",
              "|    50%|    20|      6|         0|\n",
              "|    75%|    24|      6|         5|\n",
              "+-------+------+-------+----------+"
            ]
          },
          "execution_count": 73,
          "metadata": {},
          "output_type": "execute_result"
        }
      ],
      "source": [
        "# conferindo valores\n",
        "estatisticasFull.select('summary', 'pontos', 'vitória', 'gols_saldo').where( f.col ('summary').isin(['25%', '50%', '75%']))\n",
        "\n",
        "# exibição\n",
        "print( f'Q1:{primeiro_quartil}\\nQ2:{mediana}\\nQ3:{terceiro_quartil}')"
      ]
    },
    {
      "cell_type": "code",
      "execution_count": null,
      "metadata": {
        "colab": {
          "base_uri": "https://localhost:8080/"
        },
        "id": "5fSybNRc4hPw",
        "outputId": "d1d670bd-938c-49fa-cb04-d7d85a858a2a"
      },
      "outputs": [
        {
          "name": "stdout",
          "output_type": "stream",
          "text": [
            "Q1:(<class 'float'>, [13.0, 20.0, 24.0])\n",
            "Q2:(<class 'float'>, [3.0, 6.0, 6.0])\n",
            "Q3:(<class 'float'>, [-6.0, 0.0, 5.0])\n"
          ]
        }
      ],
      "source": [
        "# lista para usar laço\n",
        "nlist = [primeiro_quartil, mediana, terceiro_quartil]\n",
        "\n",
        "# laço FOR para percorrer lista com percentis\n",
        "for n in nlist:\n",
        "  # laço FOR para transformar valores no tipo float\n",
        "  n = [float(i) for i in n]\n",
        "\n",
        "print( f'Q1:{type(primeiro_quartil[0]), primeiro_quartil}\\nQ2:{type(mediana[0]), mediana}\\nQ3:{type(terceiro_quartil[0]), terceiro_quartil}')"
      ]
    },
    {
      "cell_type": "code",
      "execution_count": null,
      "metadata": {
        "id": "4qHxQG3XD0No"
      },
      "outputs": [],
      "source": [
        "df_py = dfx\n",
        "#Lista todas as Colunas do dataframe\n",
        "todas_colunas = [coluna for coluna, tipo in df_py.dtypes ]\n",
        "\n",
        "#Lista todas as Colunas do dataframe\n",
        "colunas_numericas = [coluna for coluna, tipo in df_py.dtypes if tipo in ['double', 'float', 'decimal', 'integer', 'long']]\n",
        "\n",
        "# Calculando os quartis de todos os atributos quantitativos\n",
        "quartis = df_py.approxQuantile(colunas_numericas, [0.25,0.5,0.75], 0)\n",
        "\n",
        "quartis"
      ]
    },
    {
      "cell_type": "markdown",
      "metadata": {
        "id": "s7P7NsNwXNyy"
      },
      "source": [
        "# **FIM**\n",
        "\n",
        "Estes foram os principais fundamentos aboradados durante o curso!"
      ]
    }
  ],
  "metadata": {
    "colab": {
      "provenance": [],
      "toc_visible": true,
      "include_colab_link": true
    },
    "kernelspec": {
      "display_name": "Python 3",
      "name": "python3"
    },
    "language_info": {
      "name": "python"
    }
  },
  "nbformat": 4,
  "nbformat_minor": 0
}