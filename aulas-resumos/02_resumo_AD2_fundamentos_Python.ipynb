{
  "cells": [
    {
      "cell_type": "markdown",
      "metadata": {
        "id": "view-in-github",
        "colab_type": "text"
      },
      "source": [
        "<a href=\"https://colab.research.google.com/github/joseaureliok/soulcode-martech-bootcamp-ad/blob/notebooks_aulas/aulas-resumos/02_resumo_AD2_fundamentos_Python.ipynb\" target=\"_parent\"><img src=\"https://colab.research.google.com/assets/colab-badge.svg\" alt=\"Open In Colab\"/></a>"
      ]
    },
    {
      "cell_type": "markdown",
      "metadata": {
        "id": "IeaC2eLMW6tZ"
      },
      "source": [
        "# **FUNDAMENTOS DE PYTHON**\n",
        "\n",
        "Este notebook foi elaborado no Google Colaboratory e posteriormente ajustado pelo VS Code, em forma de compilação dos principais pontos do apresentados durante o curso.\n",
        "\n",
        "#### Bootcamp Martech em Análise de Dados - AD2\n",
        "##### SoulCode Academy\n",
        "##### Professores:\n",
        "                Franciane Rodrigues\n",
        "                Douglas Ribeiro\n",
        "                Jonatas Carneiro\n",
        "##### Acadêmico:\n",
        "                José Aurelio Kovalczuk de Oliveira"
      ]
    },
    {
      "cell_type": "markdown",
      "metadata": {
        "id": "QxBnPIYUW6td"
      },
      "source": [
        "## **TIPOS DE DADOS**"
      ]
    },
    {
      "cell_type": "markdown",
      "metadata": {
        "id": "p1elGWl6W6te"
      },
      "source": [
        "* **Lógica de programação** é a estruturação de conceitos e regras que orientam e execução do algoritmo.\n",
        "* **Algoritmo** é a receita, ou seja, os comandos os comandos em um passo-a-passo claro e lógico que conduzem as ações para a resolução de um problema ou para atingir determinado objetivo.\n",
        "* **Programa** é a implementação do algoritmo."
      ]
    },
    {
      "cell_type": "code",
      "execution_count": null,
      "metadata": {
        "id": "MVsEmb6LW6tf",
        "outputId": "59b7f362-4c45-4717-c914-4a5dc8016cdb"
      },
      "outputs": [
        {
          "name": "stdout",
          "output_type": "stream",
          "text": [
            "Olá, Mundo!!!\n",
            "Olá, Mundo!!!\n",
            "testando\n",
            "a quebra\n",
            "de linha\n"
          ]
        }
      ],
      "source": [
        "# Primeiro passos em python, com texto (string) entre aspas duplas e aspas simples\n",
        "print(\"Olá, Mundo!!!\")\n",
        "\n",
        "print('Olá, Mundo!!!')\n",
        "\n",
        "# Comentários em python\n",
        "\n",
        "    # comentários serão feitos ser por (#) antecedendo o texto ou código\n",
        "    # vale dizer, aqui, que há o entendimento de que aspas triplas (''') são também uma forma de comentário, contudo elas são uma string, inserida em uma função para passar para o usuário uma especificação, informação ou orientação\n",
        "\n",
        "# Quebra de linha com \\n, pode ser exemplificada na impressão da string abaixo\n",
        "print(\"testando\\na quebra\\nde linha\")"
      ]
    },
    {
      "cell_type": "markdown",
      "metadata": {
        "id": "q__VqrhBW6ti"
      },
      "source": [
        "Em síntese,\n",
        "* **Tipos de dados** no Python mais usados são *int, float, str, bool*\n",
        "    * **int** e **float**: dados quantitativos\n",
        "    * **str**: dados categóricos ou qualitativos\n",
        "    * **bool**: dados qualitativos\n",
        "\n",
        "Lembrando que,\n",
        "*    **comentários** são como notas ou explicações utilizadas para transmitir ou outra pessoa, ou a você mesmo, informações importantes sobre o código\n",
        "*   o comando **print:** é uma função de saída utilizada em várias linguagens de programação para exibir mensagens ou valores na tela do computador\n",
        "*   **\\n**, em python, é usado para criar quebras de linha em um texto dentro da função *print*"
      ]
    },
    {
      "cell_type": "markdown",
      "metadata": {
        "id": "A2pEpPBeW6ti"
      },
      "source": [
        "## **VARIÁVEIS**"
      ]
    },
    {
      "cell_type": "markdown",
      "metadata": {
        "id": "kh92j9W6W6tj"
      },
      "source": [
        "### **Introdução**"
      ]
    },
    {
      "cell_type": "code",
      "execution_count": null,
      "metadata": {
        "id": "aodGxvvGW6tj"
      },
      "outputs": [],
      "source": [
        "# declarando variáveis\n",
        "nome = \"José\"\n",
        "sobrenome = \"Oliveira\"\n",
        "idade = 36\n",
        "altura = 1.79\n",
        "filhos = True"
      ]
    },
    {
      "cell_type": "code",
      "execution_count": null,
      "metadata": {
        "id": "ApN2idmrW6tj",
        "outputId": "37985735-c10e-4b77-bf27-6c839d557834"
      },
      "outputs": [
        {
          "name": "stdout",
          "output_type": "stream",
          "text": [
            "José\n",
            "36\n",
            "True\n",
            "--------------------------------------------------\n",
            "José 36 True\n",
            "--------------------------------------------------\n",
            "As variáveis possuem o seguintes valores: \n",
            "nome: José; \n",
            "idade: 36; \n",
            "filhos: True.\n"
          ]
        }
      ],
      "source": [
        "\n",
        "# exibindo valores das variáveis com função print individual\n",
        "print(nome)\n",
        "print(idade)\n",
        "print(filhos)\n",
        "print('-'*50)\n",
        "# exibindo valores das variáveis com função print em conjunto\n",
        "print(nome, idade, filhos)\n",
        "print('-'*50)\n",
        "# exibindo valores das variáveis com função print e f-string\n",
        "print( f'As variáveis possuem o seguintes valores: \\nnome: {nome}; \\nidade: {idade}; \\nfilhos: {filhos}.')"
      ]
    },
    {
      "cell_type": "markdown",
      "metadata": {
        "id": "h6tPkBTdW6tk"
      },
      "source": [
        "**ATENÇÃO:** declarar a variável sem a função 'print' exibirá apenas os valores da última variável do boloc, pois uma exibição sobrescerve a outra; já com a função 'print', pode-se empilhar a exibição de variáveis"
      ]
    },
    {
      "cell_type": "code",
      "execution_count": null,
      "metadata": {
        "id": "5Bo565EgW6tk",
        "outputId": "cb9b6689-85d2-41e1-9edf-1508b92ee8b5"
      },
      "outputs": [
        {
          "name": "stdout",
          "output_type": "stream",
          "text": [
            "\n",
            "nome: <class 'str'> \n",
            "sobrenome: <class 'str'> \n",
            "idade: <class 'int'> \n",
            "altura: <class 'float'> \n",
            "filhos: <class 'bool'>\n"
          ]
        }
      ],
      "source": [
        "# verificando tipos de variáveis\n",
        "print(\"\\nnome:\", type(nome),\n",
        "      \"\\nsobrenome:\", type(sobrenome),\n",
        "      \"\\nidade:\", type(idade),\n",
        "      \"\\naltura:\", type(altura),\n",
        "      \"\\nfilhos:\", type(filhos))"
      ]
    },
    {
      "cell_type": "markdown",
      "metadata": {
        "id": "3ZvAuzLHW6tl"
      },
      "source": [
        "**ATENÇÃO:** o python é 'case sensitive', ou seja, as variáveis e comandos de código fazem diferenciação entre letras maiúsculas e minúsculas"
      ]
    },
    {
      "cell_type": "code",
      "execution_count": null,
      "metadata": {
        "id": "86QgZ9kOW6tm",
        "outputId": "dbcebd0c-b1ac-4e13-82f2-c7b1d33a19b2"
      },
      "outputs": [
        {
          "name": "stdout",
          "output_type": "stream",
          "text": [
            "Meu nome é José Oliveira e meu número da sorte é 37.79!!\n",
            "Tipo de dado número favorito: <class 'float'>.\n"
          ]
        }
      ],
      "source": [
        "# declarando variáveis com concatenação (+) e f-string\n",
        "nome_completo = nome + \" \" + sobrenome\n",
        "numero_favorito = idade + altura\n",
        "print(f\"Meu nome é {nome_completo} e meu número da sorte é {numero_favorito}!!\")\n",
        "print(f\"Tipo de dado número favorito: {type(numero_favorito)}.\")"
      ]
    },
    {
      "cell_type": "markdown",
      "metadata": {
        "id": "N8YFe_fBW6tm"
      },
      "source": [
        "**ATENÇÃO:** somente podem ser adicionadas variáveis com mesma características, a exemplo 'str + str' ou 'int + int' ou 'int + float', neste último caso transformando será transformado em 'float', CONTUDO, vale a ressalva de que uma 'str' pode representar um numero de forma literal, ou seja, 'número pode ser string'"
      ]
    },
    {
      "cell_type": "markdown",
      "metadata": {
        "id": "cZ9wEo9EW6tm"
      },
      "source": [
        "### **Nomes de Variáveis**"
      ]
    },
    {
      "cell_type": "markdown",
      "metadata": {
        "id": "LG0gFwiNW6tn"
      },
      "source": [
        "1. Deve começar com uma letra (maíuscula ou minúscula) ou subcrito(_)\n",
        "2. Nunca pode começar com um número\n",
        "3. Pode conter letras maiúsculas, minúsculas, números e subscrito\n",
        "4. Não pode-se utilizar como parte do nome de uma variável:\n",
        "{ ( + - * / \\ ; . , ?\n",
        "5. Letras maiúsculas e minúsculas importam em variáveis diferentes:\n",
        "casa = 5 e\n",
        "Casa = 2, quando chamadas geram resultado diferentes"
      ]
    },
    {
      "cell_type": "markdown",
      "metadata": {
        "id": "5OuGB08bW6tn"
      },
      "source": [
        "### **Conversão de Variáveis**"
      ]
    },
    {
      "cell_type": "code",
      "execution_count": null,
      "metadata": {
        "id": "sDoLY84IW6tn",
        "outputId": "a9697ec7-86c1-45b3-9ef4-9b6efb3d0068"
      },
      "outputs": [
        {
          "name": "stdout",
          "output_type": "stream",
          "text": [
            "conversão INT para FLOAT\n",
            "inteiro: <class 'int'> \n",
            "valor: 10\n",
            "decimal: <class 'float'> \n",
            "valor: 10.0\n",
            "\n",
            "conversão INT para STR\n",
            "inteiro: <class 'int'> \n",
            "valor: 10\n",
            "texto: <class 'str'> \n",
            "valor: 10\n"
          ]
        }
      ],
      "source": [
        "# integer\n",
        "print(\"conversão INT para FLOAT\")\n",
        "num_int = 10\n",
        "print(\"inteiro:\", type(num_int), \"\\nvalor:\", num_int)\n",
        "num_float = float(num_int)\n",
        "print(\"decimal:\", type(num_float), \"\\nvalor:\", num_float)\n",
        "\n",
        "print(\"\\nconversão INT para STR\")\n",
        "num_int = 10\n",
        "print(\"inteiro:\", type(num_int), \"\\nvalor:\", num_int)\n",
        "num_str = str(num_int)\n",
        "print(\"texto:\", type(num_str), \"\\nvalor:\", num_str)"
      ]
    },
    {
      "cell_type": "code",
      "execution_count": null,
      "metadata": {
        "id": "tsaIDugkW6tn",
        "outputId": "f5d30331-95b7-4198-c3e8-a7ab8b4e3bdd"
      },
      "outputs": [
        {
          "name": "stdout",
          "output_type": "stream",
          "text": [
            "\n",
            "conversão FLOAT para INT\n",
            "decimal: <class 'float'> \n",
            "valor: 5.8\n",
            "inteiro: <class 'int'> \n",
            "valor: 5\n",
            "\n",
            "conversão FLOAT para STR\n",
            "decimal: <class 'float'> \n",
            "valor: 5.8\n",
            "texto: <class 'str'> \n",
            "valor: 5.8\n"
          ]
        }
      ],
      "source": [
        "# float\n",
        "print(\"\\nconversão FLOAT para INT\")\n",
        "num_float = 5.8\n",
        "print(\"decimal:\", type(num_float), \"\\nvalor:\", num_float)\n",
        "num_int = int(num_float)\n",
        "print(\"inteiro:\", type(num_int), \"\\nvalor:\", num_int)\n",
        "'''CUIDADO: nesse caso de conversão será DESCONSIDERADO o valor decimal!!!'''\n",
        "\n",
        "print(\"\\nconversão FLOAT para STR\")\n",
        "num_float = 5.8\n",
        "print(\"decimal:\", type(num_float), \"\\nvalor:\", num_float)\n",
        "num_str = str(num_float)\n",
        "print(\"texto:\", type(num_str), \"\\nvalor:\", num_str)"
      ]
    },
    {
      "cell_type": "code",
      "execution_count": null,
      "metadata": {
        "id": "gWB83gLKW6to",
        "outputId": "8d735342-f08e-4217-9c25-d8d89162826b"
      },
      "outputs": [
        {
          "name": "stdout",
          "output_type": "stream",
          "text": [
            "\n",
            "conversão STR para INT\n",
            "texto: <class 'str'> \n",
            "valor: 5\n",
            "inteiro: <class 'int'> \n",
            "valor: 5\n",
            "\n",
            "conversão STR para FLOAT\n",
            "texto: <class 'str'> \n",
            "valor: 5.8\n",
            "decimal: <class 'float'> \n",
            "valor: 5.8\n"
          ]
        }
      ],
      "source": [
        "# string\n",
        "print(\"\\nconversão STR para INT\")\n",
        "num_str = \"5\"\n",
        "print(\"texto:\", type(num_str), \"\\nvalor:\", num_str)\n",
        "num_int = int(num_str)\n",
        "print(\"inteiro:\", type(num_int), \"\\nvalor:\", num_int)\n",
        "\n",
        "print(\"\\nconversão STR para FLOAT\")\n",
        "num_str = \"5.8\"\n",
        "print(\"texto:\", type(num_str), \"\\nvalor:\", num_str)\n",
        "num_float = float(num_str)\n",
        "print(\"decimal:\", type(num_float), \"\\nvalor:\", num_float)"
      ]
    },
    {
      "cell_type": "markdown",
      "metadata": {
        "id": "zxUbY64cW6to"
      },
      "source": [
        "## **OPERADORES**"
      ]
    },
    {
      "cell_type": "markdown",
      "metadata": {
        "id": "ijplh0tOW6to"
      },
      "source": [
        "### **Principais Operadores Matemáticos**"
      ]
    },
    {
      "cell_type": "code",
      "execution_count": null,
      "metadata": {
        "id": "EBm9sGpoW6to",
        "outputId": "591d1087-7bb2-497b-f322-fcf5c32ba283"
      },
      "outputs": [
        {
          "name": "stdout",
          "output_type": "stream",
          "text": [
            "A soma é: 13.036999999999999; arredondando para duas casas decimais: 13.04: do tipo de dado <class 'float'>.\n"
          ]
        }
      ],
      "source": [
        "# Adição\n",
        "a = 5.887\n",
        "b = 7.15\n",
        "\n",
        "soma = a + b\n",
        "\n",
        "print( f\"A soma é: {soma}; arredondando para duas casas decimais: {soma:.2f}: do tipo de dado {type(soma)}.\")"
      ]
    },
    {
      "cell_type": "code",
      "execution_count": null,
      "metadata": {
        "id": "w2EA-69AW6tp",
        "outputId": "579df54f-2597-486f-aa9b-65f2167a4e2a"
      },
      "outputs": [
        {
          "name": "stdout",
          "output_type": "stream",
          "text": [
            "A subtração é: -1.2630000000000008; arredondando para duas casas decimais: -1.26; do tipo de dado <class 'float'>.\n"
          ]
        }
      ],
      "source": [
        "# Subtração\n",
        "a = 5.887\n",
        "b = 7.15\n",
        "\n",
        "subt = a - b\n",
        "\n",
        "print( f\"A subtração é: {subt}; arredondando para duas casas decimais: {subt:.2f}; do tipo de dado {type(subt)}.\")"
      ]
    },
    {
      "cell_type": "code",
      "execution_count": null,
      "metadata": {
        "id": "95ZWqKqPW6tp",
        "outputId": "a230a094-d4a7-45f2-bc4c-cb6d40643e47"
      },
      "outputs": [
        {
          "name": "stdout",
          "output_type": "stream",
          "text": [
            "A multiplicação é: 42.09205; arredondando para duas casas decimais: 42.09: tem o tipo de dado <class 'float'>.\n"
          ]
        }
      ],
      "source": [
        "# Multiplicação\n",
        "a = 5.887\n",
        "b = 7.15\n",
        "\n",
        "mult = a * b\n",
        "\n",
        "print( f\"A multiplicação é: {mult}; arredondando para duas casas decimais: {round(mult, 2)}: tem o tipo de dado {type(mult)}.\")"
      ]
    },
    {
      "cell_type": "code",
      "execution_count": null,
      "metadata": {
        "id": "jLnEAbShW6tp",
        "outputId": "b818adf0-ea92-459c-a842-dc6ae3b62ca2"
      },
      "outputs": [
        {
          "name": "stdout",
          "output_type": "stream",
          "text": [
            "A divisão é: 2.13986013986014; arredondando para duas casas decimais: 2.14: tem o tipo de dado <class 'float'>.\n"
          ]
        }
      ],
      "source": [
        "# Divisão\n",
        "a = 15.30\n",
        "b = 7.15\n",
        "\n",
        "divd = a/b\n",
        "\n",
        "print( f\"A divisão é: {divd}; arredondando para duas casas decimais: {divd:.2f}: tem o tipo de dado {type(divd)}.\")"
      ]
    },
    {
      "cell_type": "markdown",
      "metadata": {
        "id": "rRLyhin4W6tp"
      },
      "source": [
        "#### **Outros Operadores Matemáticos**"
      ]
    },
    {
      "cell_type": "code",
      "execution_count": null,
      "metadata": {
        "id": "t4ST43o9W6tp"
      },
      "outputs": [],
      "source": [
        "# parte inteira da divisão\n",
        "idiv = 3//2\n",
        "\n",
        "# resto de divisão\n",
        "rdiv = 3%2\n",
        "\n",
        "# potenciação\n",
        "pot = 3**2\n",
        "\n",
        "# radiciação - Exemplo: raiz quadrada de 4\n",
        "rad = 3**(1/2)"
      ]
    },
    {
      "cell_type": "markdown",
      "metadata": {
        "id": "ze6RNuA-W6tq"
      },
      "source": [
        "### **Operadores de Comparação**"
      ]
    },
    {
      "cell_type": "markdown",
      "metadata": {
        "id": "6IVtFuMqW6tq"
      },
      "source": [
        "**Booleanos entre iguais**\n",
        "(==) verifica se dois valores são **IGUAIS**, retornando *TRUE* ou *FALSE*, no caso\n",
        "utilizando como exemplo a comparação entre valores numéricos e valores textuais\n",
        "\n",
        "**Booleanos entre diferentes**\n",
        "(!=) verifica se dois valores são **DIFERENTES**, retornando *TRUE* ou *FALSE*, no caso\n",
        "utilizando como exemplo a comparação entre valores numéricos e valores textuais"
      ]
    },
    {
      "cell_type": "code",
      "execution_count": null,
      "metadata": {
        "id": "nOCr2AHiW6tq"
      },
      "outputs": [],
      "source": [
        "# Variáveis numéricas\n",
        "a = 3\n",
        "b = 2\n",
        "c = 3.0\n",
        "\n",
        "# Variáveis textuais\n",
        "d = \"jose\"\n",
        "e = \"Jose\""
      ]
    },
    {
      "cell_type": "code",
      "execution_count": null,
      "metadata": {
        "id": "hU4UiwivW6tq",
        "outputId": "1dbba0fd-45ec-423e-f224-2519af758a84"
      },
      "outputs": [
        {
          "name": "stdout",
          "output_type": "stream",
          "text": [
            "Variavel a é igual a variável c? True\n",
            "Variavel a é diferente da variável c? False\n",
            "\n",
            "Tipo de 3 é igual ao tipo de 2? True.\n",
            "E comparando com 3.0? False.\n",
            "E o tipo de 2 é igual ao de 3.0? False\n",
            "\n",
            "\n",
            "A tipagem de 3 é diferente da tipagem de 2? False.\n",
            "E comparando com 3.0, é diferente? True.\n",
            "E a tipagem de 2 é diferente da tipagem de 3.0? True\n",
            "\n",
            "A string \"jose\" é igual a string \"Jose\"? False. \n",
            "O tipo da string \"jose\" é o mesmo de \"Jose\"? True.\n"
          ]
        }
      ],
      "source": [
        "# Exibindo a comparação entre valores numéricos\n",
        "print (\"Variavel a é igual a variável c?\", a==c)\n",
        "print (\"Variavel a é diferente da variável c?\", a!=c)\n",
        "\n",
        "print ( f'\\nTipo de {a} é igual ao tipo de {b}? {(type(a))==(type(b))}.\\nE comparando com {c}? {((type(a))==(type(c)))}.\\nE o tipo de {b} é igual ao de {c}? {((type(b))==(type(c)))}\\n')\n",
        "\n",
        "print ( f'\\nA tipagem de {a} é diferente da tipagem de {b}? {(type(a))!=(type(b))}.\\nE comparando com {c}, é diferente? {((type(a))!=(type(c)))}.\\nE a tipagem de {b} é diferente da tipagem de {c}? {((type(b))!=(type(c)))}\\n')\n",
        "\n",
        "# Exibindo a comparação entre valores textuais\n",
        "print (f'A string \"{d}\" é igual a string \"{e}\"? {d==e}. \\nO tipo da string \"{d}\" é o mesmo de \"{e}\"? {type(d)==type(e)}.')"
      ]
    },
    {
      "cell_type": "markdown",
      "metadata": {
        "id": "imvB_PPwW6tq"
      },
      "source": [
        "**Booleanos entre maior**\n",
        "(>) verifica se um valor é **MAIOR**, retornando *TRUE* ou *FALSE*,\n",
        "no caso utilizando como exemplo a comparação entre valores numéricos\n",
        "\n",
        "**Booleanos entre menor**\n",
        "(<)  verifica se um valor é **MENOR**, retornando *TRUE* ou *FALSE*,\n",
        "no caso utilizando como exemplo a comparação entre valores numéricos"
      ]
    },
    {
      "cell_type": "code",
      "execution_count": null,
      "metadata": {
        "id": "qmOQYR6iW6tr",
        "outputId": "cc06633d-2d79-47e4-8aea-01f24dd578b9"
      },
      "outputs": [
        {
          "name": "stdout",
          "output_type": "stream",
          "text": [
            "A variável \"a\"(3) é maior do que a variável \"b\"(2) ? True. \n",
            "A variável variável \"c\"(3.0) é maior ou igual a variável \"a\"(3)? True.\n",
            "\n",
            "A variável \"a\"(3) é menor do que a variável \"b\"(2) ? False. \n",
            "A variável variável \"c\"(3.0) é menor ou igual a variável \"a\"(3)? True.\n"
          ]
        }
      ],
      "source": [
        "\n",
        "print ( f'A variável \"a\"({a}) é maior do que a variável \"b\"({b}) ? {a>b}. \\nA variável variável \"c\"({c}) é maior ou igual a variável \"a\"({a})? {c>=a}.\\n')\n",
        "print ( f'A variável \"a\"({a}) é menor do que a variável \"b\"({b}) ? {a<b}. \\nA variável variável \"c\"({c}) é menor ou igual a variável \"a\"({a})? {c<=a}.')"
      ]
    },
    {
      "cell_type": "markdown",
      "metadata": {
        "id": "6gUha5tDW6tr"
      },
      "source": [
        "### **Operadores de Atribuição**"
      ]
    },
    {
      "cell_type": "code",
      "execution_count": null,
      "metadata": {
        "id": "VyLWOt0pW6tr",
        "outputId": "e7643270-d048-4795-bec5-e4356369096a"
      },
      "outputs": [
        {
          "name": "stdout",
          "output_type": "stream",
          "text": [
            "Nome: Jose Aurelio \n",
            "Idade: 36 \n",
            "Salario: 1200\n",
            "\n",
            "No próximo aniversário, Jose Aurelio fará 37 anos de idade.\n",
            "No ano anterior, Jose Aurelio tinha 35 anos de idade.\n",
            "Jose Aurelio receberá do dobro de seu salario, o que equivale a 2400 reais\n",
            "Para Jose Aurelio dobrar seu salario novamente, deverá receber 1200.0 reais\n",
            "A metade do salario inicial é 600.0 reais\n",
            "Resto 1\n",
            "A metade do salario inicial ao quadrado será 360000.0\n"
          ]
        }
      ],
      "source": [
        "# atribuição DIRETA (=)\n",
        "nome = \"Jose Aurelio\"\n",
        "idade = 36\n",
        "salario = 1200\n",
        "print( f'Nome: {nome} \\nIdade: {idade} \\nSalario: {salario}\\n')\n",
        "\n",
        "# atribuição de soma (+=)\n",
        "idade += 1\n",
        "print ( f'No próximo aniversário, {nome} fará {idade} anos de idade.')\n",
        "\n",
        "# atribuição de subtração (-=)\n",
        "idade -=2\n",
        "print ( f'No ano anterior, {nome} tinha {idade} anos de idade.')\n",
        "\n",
        "# atribuição de multiplicação (*=)\n",
        "salario *=2\n",
        "print ( f'{nome} receberá do dobro de seu salario, o que equivale a {salario} reais')\n",
        "\n",
        "# atribuição de divisão (/=)\n",
        "salario /=2\n",
        "print ( f'Para {nome} dobrar seu salario novamente, deverá receber {salario} reais')\n",
        "\n",
        "# atribuição de divisão inteira (/=)\n",
        "salario //=2\n",
        "print ( f'A metade do salario inicial é {salario} reais')\n",
        "\n",
        "# atribuição de resto (%=) de uma divisão por 2\n",
        "idade %=2\n",
        "print ( f'Resto {idade}')\n",
        "\n",
        "# atribuição de divisão (**=)\n",
        "salario **=2\n",
        "print ( f'A metade do salario inicial ao quadrado será {salario}')"
      ]
    },
    {
      "cell_type": "markdown",
      "metadata": {
        "id": "yJ1gNUhAW6tr"
      },
      "source": [
        "### **Operadores Lógicos**"
      ]
    },
    {
      "cell_type": "code",
      "execution_count": null,
      "metadata": {
        "id": "RyVY6peyW6ts",
        "outputId": "e4d1a3cc-6056-4320-df62-400ff4170dc2"
      },
      "outputs": [
        {
          "name": "stdout",
          "output_type": "stream",
          "text": [
            "Operando com \"and\" (\"one\") False e operando com \"&\" (\"two\") False\n",
            "Operando com \"or\" (\"one\") True e operando com \"|\" (\"two\") True\n"
          ]
        }
      ],
      "source": [
        "# (and ou &) retorna TRUE somente quando todas as condições forem satisfeitas\n",
        "teste_and_one = 3 < 2 and 3!= 2 and 3<4\n",
        "teste_and_two = (3 < 2) & (3!= 2) & (3<4)\n",
        "print (f'Operando com \"and\" (\"one\") {teste_and_one} e operando com \"&\" (\"two\") {teste_and_two}')\n",
        "\n",
        "# (or) retorna TRUE quando uma das condições for satisfeita\n",
        "teste_or_one = 3 >= 2 or 3!= 2 or 3<4\n",
        "teste_or_two = (3 >= 2) | (3!= 2) | (3<4)\n",
        "print (f'Operando com \"or\" (\"one\") {teste_or_one} e operando com \"|\" (\"two\") {teste_or_two}')"
      ]
    },
    {
      "cell_type": "code",
      "execution_count": null,
      "metadata": {
        "id": "QKxKpkAxW6ts",
        "outputId": "dae790d2-ce06-45b4-cda6-b321e5382e6e"
      },
      "outputs": [
        {
          "name": "stdout",
          "output_type": "stream",
          "text": [
            "Aplicando \"not\" nas variáveis analisadas anteriormente para AND ONE True e OR ONE False\n",
            "Aplicando o \"not in\" para obter elementos diferentes entre duas listas:\n",
            "O elemento e não consta na lista A.\n",
            "O elemento f não consta na lista A.\n",
            "O elemento g não consta na lista A.\n"
          ]
        }
      ],
      "source": [
        "#(not) inverte a sentença passada\n",
        "teste_not_one = not(teste_and_one)\n",
        "teste_not_two = not(teste_or_one)\n",
        "print (f'Aplicando \"not\" nas variáveis analisadas anteriormente para AND ONE {teste_not_one} e OR ONE {teste_not_two}')\n",
        "\n",
        "# (not in) aplicado em uma lista\n",
        "lista_A = ['a', 'b', 'c', 'd']\n",
        "lista_B = ['d', 'e', 'f', 'g']\n",
        "\n",
        "print('Aplicando o \"not in\" para obter elementos diferentes entre duas listas:')\n",
        "for n in lista_B:\n",
        "  if n not in lista_A:\n",
        "    print( f'O elemento {n} não consta na lista A.')\n"
      ]
    },
    {
      "cell_type": "markdown",
      "metadata": {
        "id": "4x8ikXQXW6ty"
      },
      "source": [
        "### **Operadores de Identidade**"
      ]
    },
    {
      "cell_type": "code",
      "execution_count": null,
      "metadata": {
        "id": "XF23HB4xW6tz",
        "outputId": "0c85ca40-3686-432e-9d1e-238c9cf3e90c"
      },
      "outputs": [
        {
          "name": "stdout",
          "output_type": "stream",
          "text": [
            "Enquanto resultado da ATRIBUIÇÃO engloba apenas o valor (3 e 3.0): True; o resultado de IS abrange valor e tipo (3 e 3.0; int e float): False\n",
            "A variável h é DIFERENTE de h1? True\n",
            "A variável h é DIFERENTE de p1? False\n",
            "A variável p é DIFERENTE de h1? True\n",
            "A variável p é DIFERENTE de p1? True\n",
            "Lembrando que o resultado é diferente quando se usa \"!=\" e \"IS NOT\", pois no primeiro se considera APENAS o valor: False e no segunto TAMBÉM o tipo: True\n"
          ]
        }
      ],
      "source": [
        "# (is) compara valor e tipo de um objeto\n",
        "h = 3\n",
        "p = 3.0\n",
        "\n",
        "result_atribuicao = p == h\n",
        "result_is = p is h\n",
        "\n",
        "print ( f'Enquanto resultado da ATRIBUIÇÃO engloba apenas o valor (3 e 3.0): {result_atribuicao}; o resultado de IS abrange valor e tipo (3 e 3.0; int e float): {result_is}')\n",
        "\n",
        "# (is not)\n",
        "h1 = 4\n",
        "p1 = 3\n",
        "\n",
        "print ( f'A variável h é DIFERENTE de h1? { h is not h1}')\n",
        "print ( f'A variável h é DIFERENTE de p1? { h is not p1}')\n",
        "print ( f'A variável p é DIFERENTE de h1? { p is not h1}')\n",
        "print ( f'A variável p é DIFERENTE de p1? { p is not p1}')\n",
        "\n",
        "print( f'Lembrando que o resultado é diferente quando se usa \"!=\" e \"IS NOT\", pois no primeiro se considera APENAS o valor: {p!=p1} e no segunto TAMBÉM o tipo: {p is not p1}')"
      ]
    },
    {
      "cell_type": "markdown",
      "metadata": {
        "id": "PtOIryMhW6tz"
      },
      "source": [
        "### **Operadores de Associação**"
      ]
    },
    {
      "cell_type": "code",
      "execution_count": null,
      "metadata": {
        "id": "rJLBmqdCW6t0",
        "outputId": "f98abf61-fbaf-44a4-99ee-5a1ee223e84a"
      },
      "outputs": [
        {
          "name": "stdout",
          "output_type": "stream",
          "text": [
            "O trissilabo \"Aur\" está contido no nome \"Aurelio\"? True\n",
            "O trissilabo \"Aur\" NÃO está contido no nome \"Aurelio\"? False\n"
          ]
        }
      ],
      "source": [
        "# (in) retorna TRUE ou FALSE se um caracter ou sequencia de caracteres está dentro de uma string for encontrado\n",
        "string_name = \"Aurelio\"\n",
        "\n",
        "print (f'O trissilabo \"Aur\" está contido no nome \"Aurelio\"? {\"Aur\" in string_name}')\n",
        "\n",
        "# (not in) retorna TRUE ou FALSE se um caracter ou sequencia de caracteres NÃO ESTÁ dentro de uma string for encontrado\n",
        "print (f'O trissilabo \"Aur\" NÃO está contido no nome \"Aurelio\"? {\"Aur\" not in string_name}')\n"
      ]
    },
    {
      "cell_type": "markdown",
      "metadata": {
        "id": "Wu6VCCHuW6t0"
      },
      "source": [
        "## **INPUT**"
      ]
    },
    {
      "cell_type": "code",
      "execution_count": null,
      "metadata": {
        "id": "ePvqUPEOW6t0"
      },
      "outputs": [],
      "source": [
        "# Inclusão pelo usuário da string nome na variável insert_name\n",
        "insert_name = input ('Insira o nome: ')\n",
        "\n",
        "# Inclusão pelo usuário do número do tipo float nome na variável insert_w\n",
        "insert_w = float(input ('Informe o peso em kg: '))\n",
        "\n",
        "# Inclusão pelo usuário do número do tipo float nome na variável insert_h\n",
        "insert_h = float(input ('Informe a altura em metros '))\n",
        "\n",
        "# Inclusão pelo usuário do número do tipo integer nome na variável insert_w\n",
        "insert_age = int(input('Qual sua idade em anos? '))"
      ]
    },
    {
      "cell_type": "code",
      "execution_count": null,
      "metadata": {
        "id": "fIfzBaMKW6t1",
        "outputId": "c2ae959c-1bff-4a04-cfd6-85c653fa66f6"
      },
      "outputs": [
        {
          "name": "stdout",
          "output_type": "stream",
          "text": [
            "José, seu IMC é 26.53!\n"
          ]
        }
      ],
      "source": [
        "# Fórmula para cálculo do IMC\n",
        "imc = insert_w/insert_h**2\n",
        "\n",
        "# Exibição inseridos pelo usuário e resultado da fórmula IMC com 2 casas decimais\n",
        "print (f'{insert_name}, seu IMC é {imc:.2f}!')"
      ]
    },
    {
      "cell_type": "markdown",
      "metadata": {
        "id": "mmedA5iAW6t1"
      },
      "source": [
        "## **STRINGS**"
      ]
    },
    {
      "cell_type": "markdown",
      "metadata": {
        "id": "tj1l9pDlW6t1"
      },
      "source": [
        "### **Introdução**"
      ]
    },
    {
      "cell_type": "code",
      "execution_count": null,
      "metadata": {
        "id": "Mqo52LA1W6t1",
        "outputId": "fabc492d-b933-42bb-9394-172a5b134af3"
      },
      "outputs": [
        {
          "name": "stdout",
          "output_type": "stream",
          "text": [
            " Quais caracteres da string (índices 0 a 5)? \"python\"\n",
            " O primeiro elemento da palavra python é \"p\" e o último \"n\".\n"
          ]
        }
      ],
      "source": [
        "# Inicialmente, vale lembrar que em Python as strings são conjuntos de caracteres, os quais são contados a partir do zero!\n",
        "# Assim sendo, a palavra \"python\", tem como caracter no índice 0 (python[0]) a letra \"p\" e na última posição, isto é, índice 5 (pyhton[5]) a letra \"n\".\n",
        "\n",
        "python = \"python\"\n",
        "print(f' Quais caracteres da string (índices 0 a 5)? \"{python[:]}\"')\n",
        "print(f' O primeiro elemento da palavra python é \"{python [0]}\" e o último \"{python [5]}\".')"
      ]
    },
    {
      "cell_type": "code",
      "execution_count": null,
      "metadata": {
        "id": "ri2_h5AUW6t2",
        "outputId": "d9fe35a3-ad17-4302-c489-e2938c86410c"
      },
      "outputs": [
        {
          "name": "stdout",
          "output_type": "stream",
          "text": [
            " Quais caracteres se encontra APÓS a segunda posição ou índice 1? \"thon\"\n",
            " Quais caracteres se encontra ATÉ a segunda posição ou índice 1? \"py\"\n",
            " Quais os caracteres no intervalo entre índice 2(considera | inclusivo) e 4(não considera | exclusivo) da string? \"th\"\n",
            " Quais os caracteres no intervalo entre índice 2(considera | inclusivo) e 4(não considera | exclusivo) da string? \"pyt\"\n"
          ]
        }
      ],
      "source": [
        "# relizando SLICE em uma string\n",
        "print (f' Quais caracteres se encontra APÓS a segunda posição ou índice 1? \"{python[2:]}\"')\n",
        "print (f' Quais caracteres se encontra ATÉ a segunda posição ou índice 1? \"{python[:2]}\"')\n",
        "print (f' Quais os caracteres no intervalo entre índice 2(considera | inclusivo) e 4(não considera | exclusivo) da string? \"{python[2:4]}\"')\n",
        "print (f' Quais os caracteres no intervalo entre índice 2(considera | inclusivo) e 4(não considera | exclusivo) da string? \"{python[0:3]}\"')"
      ]
    },
    {
      "cell_type": "code",
      "execution_count": null,
      "metadata": {
        "id": "3OAdtygyW6t3",
        "outputId": "2e4bdf5a-225f-4529-82f5-f359924870f9"
      },
      "outputs": [
        {
          "name": "stdout",
          "output_type": "stream",
          "text": [
            " Qual último caractere da string? \"n\"\n",
            " Quais os caracteres do intervalo de índices -3 a 5? \"ho\"\n"
          ]
        }
      ],
      "source": [
        "# índice reverso\n",
        "print(f' Qual último caractere da string? \"{python[-1]}\"')\n",
        "print(f' Quais os caracteres do intervalo de índices -3 a 5? \"{python[-3:5]}\"')"
      ]
    },
    {
      "cell_type": "markdown",
      "metadata": {
        "id": "qWTKVS6tW6t3"
      },
      "source": [
        "### **LEN**"
      ]
    },
    {
      "cell_type": "code",
      "execution_count": null,
      "metadata": {
        "id": "ekIm6rUmW6t4",
        "outputId": "bcef5497-1847-4d75-bf0f-8cc556e1ff2d"
      },
      "outputs": [
        {
          "name": "stdout",
          "output_type": "stream",
          "text": [
            " Qual o número de caracteres da string? \"6\"\n"
          ]
        }
      ],
      "source": [
        "# LEN - comprimento da string (número de elementos)\n",
        "print(f' Qual o número de caracteres da string? \"{len(python)}\"')"
      ]
    },
    {
      "cell_type": "markdown",
      "metadata": {
        "id": "yiVkcZM_W6t4"
      },
      "source": [
        "### **Concatenação**"
      ]
    },
    {
      "cell_type": "code",
      "execution_count": null,
      "metadata": {
        "id": "TB-z0EzkW6t4",
        "outputId": "648780bb-1929-4333-c99b-9309c45a922b"
      },
      "outputs": [
        {
          "name": "stdout",
          "output_type": "stream",
          "text": [
            "Inserindo a palavra \"básico\" na string já existente: python básico\n"
          ]
        }
      ],
      "source": [
        "# o operador (+) funciona como CONCATENAR para as strings\n",
        "print (f'Inserindo a palavra \"básico\" na string já existente: {python + \" \" + \"básico\"}')"
      ]
    },
    {
      "cell_type": "markdown",
      "metadata": {
        "id": "4pkIVzn8W6t5"
      },
      "source": [
        "### **CAPITALIZE, CASEFOLD, UPPER, LOWER, TITLE**"
      ]
    },
    {
      "cell_type": "code",
      "execution_count": null,
      "metadata": {
        "id": "nQbMErK_W6t5",
        "outputId": "b31d4d7c-9c02-44d4-95cf-95f3c51b1e04"
      },
      "outputs": [
        {
          "name": "stdout",
          "output_type": "stream",
          "text": [
            "Python\n",
            "python\n",
            "Transformando a palavra \"python\" toda em maiúscula \"PYTHON\" e em seguida toda para minúscula \"python\".\n",
            "Palavra toda em minúsculo \"jose aurelio oliveira\", quando aplicado o \"capitalize\" fica apenas com a primeira palavra em maiúsculo \"Jose aurelio oliveira\" \n",
            "e quando aplicado \"title\" fica com todas as palavras em maiúsculo \"Jose Aurelio Oliveira\".\n"
          ]
        }
      ],
      "source": [
        "# (capitalize) transformar PRIMEIRA letra da string em maiúscula\n",
        "first_str = python.capitalize()\n",
        "print(first_str)\n",
        "\n",
        "# (casefold) transformar PRIMEIRA letra da string em minúscula\n",
        "first_str = python.casefold()\n",
        "print(first_str)\n",
        "\n",
        "# (upper) transformar toda string em maiúscula\n",
        "upper_str = first_str.upper()\n",
        "\n",
        "# (lower) transformar toda string em minúscula\n",
        "lower_str = first_str.lower()\n",
        "\n",
        "print(f'Transformando a palavra \"{first_str}\" toda em maiúscula \"{upper_str}\" e em seguida toda para minúscula \"{lower_str}\".')\n",
        "\n",
        "# (title) primeira letra de CADA PALAVRA em maiúsculo\n",
        "note = 'jose aurelio oliveira'\n",
        "note_cap = note.capitalize()\n",
        "note_title = note.title()\n",
        "print(f'Palavra toda em minúsculo \"{note}\", quando aplicado o \"capitalize\" fica apenas com a primeira palavra em maiúsculo \"{note_cap}\" \\ne quando aplicado \"title\" fica com todas as palavras em maiúsculo \"{note_title}\".')"
      ]
    },
    {
      "cell_type": "markdown",
      "metadata": {
        "id": "BV5ItXBmW6t5"
      },
      "source": [
        "### **COUNT**"
      ]
    },
    {
      "cell_type": "code",
      "execution_count": null,
      "metadata": {
        "id": "f91YUuPSW6t5",
        "outputId": "b69c1dcb-77c8-46f7-fce3-bebb51283165"
      },
      "outputs": [
        {
          "name": "stdout",
          "output_type": "stream",
          "text": [
            "paralelepípedo tem 3 Ps\n"
          ]
        }
      ],
      "source": [
        "# (count) contar quantas vezes um caracter aparece em uma string\n",
        "material = 'paralelepípedo'\n",
        "qtde_p = material.count('p')\n",
        "print(f'{material} tem {qtde_p} Ps')"
      ]
    },
    {
      "cell_type": "markdown",
      "metadata": {
        "id": "mJKvcNG_W6t6"
      },
      "source": [
        "### **STRARTSWITH, ENDSWITH**"
      ]
    },
    {
      "cell_type": "code",
      "execution_count": null,
      "metadata": {
        "id": "-qqKl-lyW6t6",
        "outputId": "293b9498-964d-4b08-ed99-46b3d3a75497"
      },
      "outputs": [
        {
          "name": "stdout",
          "output_type": "stream",
          "text": [
            "True\n",
            "True\n"
          ]
        }
      ],
      "source": [
        "# (startswith) verifica se uma string começa com um caracter ou sequencia de caracteres\n",
        "email = 'doug@gmail.com'\n",
        "teste_end = email.startswith('doug')\n",
        "print(teste_end)\n",
        "\n",
        "# (endswith) Verifica se uma string termina com um caracter ou sequencia de caracteres\n",
        "email = 'doug@gmail.com'\n",
        "teste_end = email.endswith('gmail.com')\n",
        "print(teste_end)"
      ]
    },
    {
      "cell_type": "markdown",
      "metadata": {
        "id": "uB8sQ4N2W6t6"
      },
      "source": [
        "### **ISNUMERIC, ISALPHA, ISALNUM**"
      ]
    },
    {
      "cell_type": "code",
      "execution_count": null,
      "metadata": {
        "id": "HGUhYv2QW6t6",
        "outputId": "5620af34-7aa2-4c5a-8396-610abca35a72"
      },
      "outputs": [
        {
          "name": "stdout",
          "output_type": "stream",
          "text": [
            "A palavra \"11153578\" é numérica? True\n",
            "A palavra \"jose\" é alfabético? True\n",
            "A palavra \"abc2\" é numérica e/ou alfabética? True\n"
          ]
        }
      ],
      "source": [
        "# (isnumeric) verifica se uma string é formada por números\n",
        "informa0 = '11153578'\n",
        "str_isnum = informa0.isnumeric()\n",
        "print(f'A palavra \"{informa0}\" é numérica? {str_isnum}')\n",
        "\n",
        "# (isalpha) verifica se uma string é formada por letras\n",
        "informa1 = 'jose'\n",
        "str_alpha = informa1.isalpha()\n",
        "print(f'A palavra \"{informa1}\" é alfabético? {str_alpha}')\n",
        "\n",
        "# (isnumeric) verifica se uma string é 'alphanumeric' (retorna True para isalpha, isecimal, isdigit ou isnumeric)\n",
        "informa2 = 'abc2'\n",
        "str_isalpha = informa2.isalnum()\n",
        "print(f'A palavra \"{informa2}\" é numérica e/ou alfabética? {str_isalpha}')"
      ]
    },
    {
      "cell_type": "markdown",
      "metadata": {
        "id": "0wFd9ytyW6t7"
      },
      "source": [
        "### **SPLIT**"
      ]
    },
    {
      "cell_type": "code",
      "execution_count": null,
      "metadata": {
        "id": "U4vmEAQbW6t7",
        "outputId": "36a44aed-1b67-4655-865e-9a5bed4c78c4"
      },
      "outputs": [
        {
          "name": "stdout",
          "output_type": "stream",
          "text": [
            "O resultado do método split é uma lista: ['10 20 30 40']\n"
          ]
        }
      ],
      "source": [
        "# (split) cortar ou seccionar\n",
        "dados = input('informe os valores: ')\n",
        "\n",
        "split_data = dados.split(input(\"Informe o separador: \"))\n",
        "\n",
        "print(f'O resultado do método split é uma lista: {split_data}')"
      ]
    },
    {
      "cell_type": "markdown",
      "metadata": {
        "id": "gR8dPOV4W6t7"
      },
      "source": [
        "### **STRIP**"
      ]
    },
    {
      "cell_type": "code",
      "execution_count": null,
      "metadata": {
        "id": "VWUFYi3RW6t7",
        "outputId": "eb7c6f1d-c465-4f5d-e6a4-86324401d1e3"
      },
      "outputs": [
        {
          "name": "stdout",
          "output_type": "stream",
          "text": [
            " Aurelio  9\n",
            "Aurelio 7\n",
            " Aur elio  9\n",
            "Aur elio 8\n"
          ]
        }
      ],
      "source": [
        "# (strip) elimina caracteres indesejados - default: remove espaços no início e no fim da string\n",
        "xstr = \" Aurelio \"\n",
        "print(xstr, len(xstr))\n",
        "\n",
        "strip_xstr = xstr.strip()\n",
        "print(strip_xstr, len(strip_xstr))\n",
        "\n",
        "ystr = \" Aur elio \"\n",
        "print(ystr, len(xstr))\n",
        "\n",
        "strip_ystr = ystr.strip()\n",
        "print(strip_ystr, len(strip_ystr))"
      ]
    },
    {
      "cell_type": "markdown",
      "metadata": {
        "id": "PLHl1AM-W6t7"
      },
      "source": [
        "### **REPLACE**"
      ]
    },
    {
      "cell_type": "code",
      "execution_count": null,
      "metadata": {
        "id": "eYBwiQ46W6t8",
        "outputId": "8e11b3df-db7c-48a7-dd9b-aa5a69d57855"
      },
      "outputs": [
        {
          "name": "stdout",
          "output_type": "stream",
          "text": [
            "R$ 10.50\n",
            "R$ 10,50\n"
          ]
        }
      ],
      "source": [
        "# (replace) substitui um caracter por outro\n",
        "preco = 'R$ 10.50'\n",
        "print(preco)\n",
        "preco_rep = preco.replace('.', ',')\n",
        "print(preco_rep)"
      ]
    },
    {
      "cell_type": "markdown",
      "metadata": {
        "id": "RFKhEiZPW6t8"
      },
      "source": [
        "## **ESTRUTURA DE CONDIÇÃO**"
      ]
    },
    {
      "cell_type": "markdown",
      "metadata": {
        "id": "VKJ8OEzHW6t8"
      },
      "source": [
        "### **IF, ELIF e ELSE**"
      ]
    },
    {
      "cell_type": "code",
      "execution_count": null,
      "metadata": {
        "id": "Bg9aVxhIW6t8",
        "outputId": "3712a554-b935-4ac6-a2c5-05178cf4fb34"
      },
      "outputs": [
        {
          "name": "stdout",
          "output_type": "stream",
          "text": [
            "Entrada autorizada!\n"
          ]
        }
      ],
      "source": [
        "# Entrada de valor inteiro para idade\n",
        "idade = int(input('Qual sua idade: '))\n",
        "\n",
        "# Condição verdadeira\n",
        "if idade >= 18:\n",
        "  print(\"Entrada autorizada!\")\n",
        "# Condição não verdadeira\n",
        "else:\n",
        "  print(\"Apresente autorização do responsável!\")"
      ]
    },
    {
      "cell_type": "code",
      "execution_count": null,
      "metadata": {
        "id": "20F7hX7dW6t8",
        "outputId": "198f73e8-8aa9-4c8f-a4d2-7a1d9fd4fc58"
      },
      "outputs": [
        {
          "name": "stdout",
          "output_type": "stream",
          "text": [
            "Entrada autorizada!\n"
          ]
        }
      ],
      "source": [
        "# Entrada de valor inteiro para idade\n",
        "idade = int(input('Qual sua idade: '))\n",
        "\n",
        "# Condição um verdadeira, encerra o loop\n",
        "if idade >= 18:\n",
        "  print(\"Entrada autorizada!\")\n",
        "# Condição um falsa, avalia se condição dois é verdadeira, encerra o loop\n",
        "elif idade >=16 and idade <18:\n",
        "  print(\"Apresente autorização do responsável!\")\n",
        "# Condições um e dois não verdadeiras\n",
        "else:\n",
        "  print(\"Vai para casa, piá!\")"
      ]
    },
    {
      "cell_type": "code",
      "execution_count": null,
      "metadata": {
        "id": "5aNA5QS8W6t9",
        "outputId": "45404a44-e8df-47a3-a98a-4ded5f9a19e6"
      },
      "outputs": [
        {
          "name": "stdout",
          "output_type": "stream",
          "text": [
            "Triângulo Isósceles\n"
          ]
        }
      ],
      "source": [
        "# Entrada de valor decimal para os lados do triângulo\n",
        "lado_A = float(input( 'Insira o primeiro lado: '))\n",
        "lado_B = float(input( 'Insira o segundo lado: '))\n",
        "lado_C = float(input( 'Insira o terceiro lado: '))\n",
        "\n",
        "# Condição inicial para verificar a formação triangular\n",
        "if lado_A < (lado_B + lado_C) and lado_B < (lado_A + lado_C) and lado_C < ( lado_A + lado_B):\n",
        "  # Caso a condição antecedente seja verdadeira, serão verificadas as condições abaixo para o tipo de triângulo formado\n",
        "  if lado_A == lado_B and lado_B == lado_C and lado_A == lado_C:\n",
        "    print( f'Triângulo Equilátero')\n",
        "  elif lado_A == lado_B or lado_B == lado_C or lado_A == lado_C:\n",
        "    print( f'Triângulo Isósceles')\n",
        "  else:\n",
        "    print( f'Triângulo Escaleno')\n",
        "# Encerramento sem formação triangular\n",
        "else:\n",
        "  print( 'As medidas não representam um triângulo!!!')"
      ]
    },
    {
      "cell_type": "markdown",
      "metadata": {
        "id": "WnxvaR6LW6t9"
      },
      "source": [
        "## **ESTRUTURA DE DADOS**"
      ]
    },
    {
      "cell_type": "markdown",
      "metadata": {
        "id": "4pKZQS2BW6t9"
      },
      "source": [
        "### **LISTAS**"
      ]
    },
    {
      "cell_type": "code",
      "execution_count": null,
      "metadata": {
        "id": "D_Mgb3MQW6t9",
        "outputId": "21ddc3f6-4062-42a2-858d-2104e8ace293"
      },
      "outputs": [
        {
          "name": "stdout",
          "output_type": "stream",
          "text": [
            "[1, 'a', 2, 'b']\n"
          ]
        }
      ],
      "source": [
        "# As listas em python são estruturas de dados\n",
        "# As listas  aceitam o armazenamento de todo tipo de dado, de forma homogênea (mesmo tipo) ou heterogênea (tipos diferentes)\n",
        "lista = [1, 'a', 2, 'b']\n",
        "print(lista)"
      ]
    },
    {
      "cell_type": "markdown",
      "metadata": {
        "id": "ZXSY03rcW6t-"
      },
      "source": [
        "### **ADIÇÃO**"
      ]
    },
    {
      "cell_type": "code",
      "execution_count": null,
      "metadata": {
        "id": "Yf_7lDOwW6t-",
        "outputId": "8b7f70ee-f9de-48c6-ed40-e5983922de30"
      },
      "outputs": [
        {
          "name": "stdout",
          "output_type": "stream",
          "text": [
            "[1, 'a', 2, 'z']\n",
            "[1, 'a', 2, 'z', 0]\n",
            "[1, 'a', 2, 'z', 0, 3, 'd']\n",
            "[1, 'a', 2, 'z', 0, 'c', 3, 'd']\n"
          ]
        }
      ],
      "source": [
        "# Existem algumas formas para adicionar elementos em uma lista python\n",
        "\n",
        "# atribuição DIRETA\n",
        "lista[-1] = 'z'\n",
        "print(lista)\n",
        "\n",
        "# (append) adiciona um únimo elemento de cada vez\n",
        "lista.append(0)\n",
        "print(lista)\n",
        "\n",
        "# (extend) adiciona elementos de outra lista ou iteráveis\n",
        "lista.extend([3, 'd'])\n",
        "print(lista)\n",
        "\n",
        "# (insert) adiciona elemento em uma determinada posição, portanto, possui dois argumentos\n",
        "lista.insert(5, 'c')\n",
        "print(lista)"
      ]
    },
    {
      "cell_type": "markdown",
      "metadata": {
        "id": "_uJ4hb0cW6t-"
      },
      "source": [
        "### **LOCALIZAÇÃO**"
      ]
    },
    {
      "cell_type": "code",
      "execution_count": null,
      "metadata": {
        "id": "bKsAnyCiW6t-",
        "outputId": "88c3fae9-4d6d-4038-e3f6-211b5f410cbc"
      },
      "outputs": [
        {
          "name": "stdout",
          "output_type": "stream",
          "text": [
            "Utilizando o índice reverso, ou seja, aplicando valor negativo ao índice de uma lista, obtem-se o elemento desejado : \"d\"!\n",
            "Outra maneira é a consulta realizada pelo índice correspondente, obtendo assim a posição do elemento procurado \"4\" para o elemento \"0\"!\n"
          ]
        }
      ],
      "source": [
        "# Localizando elementos de uma lista pythons\n",
        "\n",
        "# (índice reverso)\n",
        "cz = lista[-1]\n",
        "print( f'Utilizando o índice reverso, ou seja, aplicando valor negativo ao índice de uma lista, obtem-se o elemento desejado : \"{cz}\"!')\n",
        "\n",
        "# (index) localiza index de um valor procurado, percorrendo index de ínicio e de fim da pesquisa\n",
        "target = 0\n",
        "indice_inicial = 3\n",
        "indice_final = 5\n",
        "cw = lista.index(target, indice_inicial, indice_final )\n",
        "print( f'Outra maneira é a consulta realizada pelo índice correspondente, obtendo assim a posição do elemento procurado \"{cw}\" para o elemento \"{target}\"!')"
      ]
    },
    {
      "cell_type": "markdown",
      "metadata": {
        "id": "cb49nmKTW6t_"
      },
      "source": [
        "### **EXCLUSÃO**"
      ]
    },
    {
      "cell_type": "code",
      "execution_count": null,
      "metadata": {
        "id": "PwPaxPgPW6t_",
        "outputId": "349c5515-f733-4753-9c68-c501751f8a1a"
      },
      "outputs": [
        {
          "name": "stdout",
          "output_type": "stream",
          "text": [
            "[1, 'a', 2, 'z', 0, 'c', 3, 'd']\n",
            "[1, 'a', 2, 'z', 'c', 3, 'd']\n",
            "[1, 'a', 2, 'z', 3, 'd']\n",
            "[]\n"
          ]
        }
      ],
      "source": [
        "# Removendo elementos de uma lista\n",
        "\n",
        "print(lista)\n",
        "\n",
        "# (pop)remove um item em uma dada posição na lista e o retorna\n",
        "lista.pop(4)\n",
        "print(lista)\n",
        "\n",
        "# (remove) remove o primeiro item encontrado na lista cujo valor é igual a x\n",
        "lista.remove('c')\n",
        "print(lista)\n",
        "\n",
        "# (clear) remove TODOS os elementos de uma lista\n",
        "lista.clear()\n",
        "print (lista)"
      ]
    },
    {
      "cell_type": "markdown",
      "metadata": {
        "id": "10kSVAP0W6t_"
      },
      "source": [
        "### **Aplicação**"
      ]
    },
    {
      "cell_type": "code",
      "execution_count": null,
      "metadata": {
        "id": "DhQPltVFW6uA",
        "outputId": "ca89d62a-3f9e-46f5-e178-dc420122b249"
      },
      "outputs": [
        {
          "name": "stdout",
          "output_type": "stream",
          "text": [
            "Aurelio tem IMC de: 23\n"
          ]
        }
      ],
      "source": [
        "lista_entrada = ['José','Aurelio','Oliveira']\n",
        "lista_peso = [85.0, 86.0, 75.0]\n",
        "lista_altura = [1.79, 1.90, 1.70]\n",
        "\n",
        "nome = input( 'Informe o nome a ser localizado: ').capitalize()\n",
        "\n",
        "if nome in lista_entrada:\n",
        "  ind = lista_entrada.index(nome)\n",
        "  imc = lista_peso[ind]/(lista_altura[ind]**2)\n",
        "  print(f'{nome} tem IMC de: {int(imc)}')\n",
        "else:\n",
        "  print( f'O nome {nome} não está na lista!')"
      ]
    },
    {
      "cell_type": "markdown",
      "metadata": {
        "id": "cnitxSvAW6uA"
      },
      "source": [
        "### **LEN, MAX, MIN, SUM, COUNT, SORT**"
      ]
    },
    {
      "cell_type": "code",
      "execution_count": null,
      "metadata": {
        "id": "-v751DXyW6uA"
      },
      "outputs": [],
      "source": [
        "# criação de listas como exemplo\n",
        "lista_nome = ['jose', 'aurelio', 'oliveira']\n",
        "lista_numero = [1, 7, 0, 50, -10, 0]"
      ]
    },
    {
      "cell_type": "code",
      "execution_count": null,
      "metadata": {
        "id": "WXrpfjnrW6uB",
        "outputId": "cea6b577-dcc5-4dfa-cd5e-1a4a58ea8d60"
      },
      "outputs": [
        {
          "name": "stdout",
          "output_type": "stream",
          "text": [
            "A lista nome possui 3 elementos\n",
            "O maior número encontrado na lista numérica é 50, e a palavra com inicial menor precedência na ordem alfabética é \"Oliveira\"\n",
            "O menor número encontrado na lista numérica é -10, e a palavra com inicial maior precedência na ordem alfabética é \"Aurelio\"\n",
            "O somatório dos valore numéricos da lista é 48.\n",
            "O número \"0\" (zero) aparece 2 vezes na lista.\n",
            "['aurelio', 'jose', 'oliveira']\n",
            "[50, 7, 1, 0, 0, -10]\n"
          ]
        }
      ],
      "source": [
        "# (len) tamanho de uma lista\n",
        "tamanho = len(lista_nome)\n",
        "print( f'A lista nome possui {tamanho} elementos')\n",
        "\n",
        "# (max) maior valor numerico ou palavra com inicial em maior ordem alfabética\n",
        "maximo_numero = max(lista_numero)\n",
        "maximo_nome = max(lista_nome) # considera a letra inicial\n",
        "print( f'O maior número encontrado na lista numérica é {maximo_numero}, e a palavra com inicial menor precedência na ordem alfabética é \"{maximo_nome.capitalize()}\"')\n",
        "\n",
        "# (min) menor valor numerico ou palavra com inicial em menor ordem alfabética\n",
        "minimo_numero = min(lista_numero)\n",
        "minimo_nome = min(lista_nome) # considera a letra inicial\n",
        "print( f'O menor número encontrado na lista numérica é {minimo_numero}, e a palavra com inicial maior precedência na ordem alfabética é \"{minimo_nome.capitalize()}\"')\n",
        "\n",
        "# (sum) soma de valores numéricos\n",
        "soma = sum(lista_numero)\n",
        "print( f'O somatório dos valore numéricos da lista é {soma}.')\n",
        "\n",
        "# (count) frequência de um valor\n",
        "contar = lista_numero.count(0)\n",
        "print( f'O número \"0\" (zero) aparece {contar} vezes na lista.')\n",
        "\n",
        "# (sort) ordenação de elementos\n",
        "    #crescente\n",
        "lista_nome.sort()\n",
        "print(lista_nome)\n",
        "    #decrescente\n",
        "lista_numero.sort( reverse=True)\n",
        "print(lista_numero)"
      ]
    },
    {
      "cell_type": "markdown",
      "metadata": {
        "id": "QaGykPzvW6uB"
      },
      "source": [
        "### **RANGE**"
      ]
    },
    {
      "cell_type": "code",
      "execution_count": null,
      "metadata": {
        "id": "XsgxD4xJW6uB",
        "outputId": "c749df40-e586-468a-c269-fb39e1a49db9"
      },
      "outputs": [
        {
          "name": "stdout",
          "output_type": "stream",
          "text": [
            "[0, 1, 2, 3, 4]\n",
            "[1, 2, 3, 4]\n",
            "[1, 3, 5]\n"
          ]
        }
      ],
      "source": [
        "# criação de lista com valores numéricos de n valores inteiros entre 0 e n-1\n",
        "lista_r1 = list(range(5))\n",
        "print(lista_r1)\n",
        "\n",
        "# criação com dois argumentos com n valores inteiros informando o início (primeiro argumento) até e o fim (último argumento) n-1\n",
        "lista_r2 = list(range(1,5))\n",
        "print(lista_r2)\n",
        "\n",
        "# criação com três argumentos com n valores indicando o início (primeiro argumento), o fim (último argumento) n-1 e o intervalo entre os elementos\n",
        "lista_r3 = list(range(1, 6, 2))\n",
        "print(lista_r3)"
      ]
    },
    {
      "cell_type": "markdown",
      "metadata": {
        "id": "1yWcTdKdW6uB"
      },
      "source": [
        "## **TRATAMENTO DE ERROS**"
      ]
    },
    {
      "cell_type": "code",
      "execution_count": null,
      "metadata": {
        "id": "CxH7zILfW6uB"
      },
      "outputs": [],
      "source": [
        "# lista\n",
        "lista_inicial= ['a', 'b', 'c', 'd', 'e']"
      ]
    },
    {
      "cell_type": "markdown",
      "metadata": {
        "id": "q62LBqcHW6uB"
      },
      "source": [
        "### **IF/ELSE**"
      ]
    },
    {
      "cell_type": "code",
      "execution_count": null,
      "metadata": {
        "id": "kqBYDEOCW6uC",
        "outputId": "16b5507c-e1ae-4037-a11f-46bff42715ce"
      },
      "outputs": [
        {
          "name": "stdout",
          "output_type": "stream",
          "text": [
            "Localizada e excluída com sucesso da lista!\n"
          ]
        }
      ],
      "source": [
        "# entrada de dados\n",
        "localiza_str= input( 'Informe uma letra a ser excluída: ').lower()\n",
        "\n",
        "# removendo nome da lista com a condição SE VERDADEIRO\n",
        "condse= localiza_str\n",
        "listase = lista_inicial\n",
        "if condse in listase:\n",
        "  listase.remove(condse)\n",
        "  print( 'Localizada e excluída com sucesso da lista!')\n",
        "else:\n",
        "  print( f'A letra \"{condse}\" não foi encontrada na lista!')"
      ]
    },
    {
      "cell_type": "markdown",
      "metadata": {
        "id": "hS7hPXnTW6uC"
      },
      "source": [
        "### **TRY/EXCEPT**"
      ]
    },
    {
      "cell_type": "code",
      "execution_count": null,
      "metadata": {
        "id": "Ck-86H08W6uC",
        "outputId": "7e70ea7b-a211-423a-9ab6-c0fa8d6f8b85"
      },
      "outputs": [
        {
          "name": "stdout",
          "output_type": "stream",
          "text": [
            "A letra \"b\" não foi encontrada na lista!\n"
          ]
        }
      ],
      "source": [
        "# entrada de dados\n",
        "localiza_str= input( 'Informe uma letra a ser excluída: ').lower()\n",
        "\n",
        "# removendo nome da lista com TRY/EXCEPT\n",
        "condtry = localiza_str\n",
        "listatry = lista_inicial\n",
        "try:\n",
        "  listatry.remove(condtry)\n",
        "  print( 'Localizada e excluída com sucesso da lista!')\n",
        "except:\n",
        "  print( f'A letra \"{condtry}\" não foi encontrada na lista!')"
      ]
    },
    {
      "cell_type": "markdown",
      "metadata": {
        "id": "2HxjxMmpW6uC"
      },
      "source": [
        "## **ESTRUTURA DE REPETIÇÃO**"
      ]
    },
    {
      "cell_type": "markdown",
      "metadata": {
        "id": "z2z6Fkt3W6uC"
      },
      "source": [
        "### **FOR**"
      ]
    },
    {
      "cell_type": "code",
      "execution_count": null,
      "metadata": {
        "id": "8aZEr8BeW6uC",
        "outputId": "9c18b47a-0511-4fd2-8882-55df06a688e2"
      },
      "outputs": [
        {
          "name": "stdout",
          "output_type": "stream",
          "text": [
            "Dentro da lista apresentada, os pesos [85, 89] estão acima da média e os pesos [75, 72, 79] abaixo. A média é 80.\n"
          ]
        }
      ],
      "source": [
        "# Lista com valores predefinidos\n",
        "pesos = [75, 72, 79, 85, 89]\n",
        "\n",
        "# Listas vazias\n",
        "up_media = []\n",
        "down_media = []\n",
        "\n",
        "# Fórmmula para cálculo da média\n",
        "media = int(sum(pesos)/len(pesos))\n",
        "\n",
        "# Laço FOR\n",
        "for peso in pesos:\n",
        "  if peso > media:\n",
        "    up_media.append(peso)\n",
        "  elif peso < media:\n",
        "    down_media.append(peso)\n",
        "  else:\n",
        "    print( f'Valor de {peso} é igual a média.')\n",
        "\n",
        "# Exibição dos resultados\n",
        "print( f'Dentro da lista apresentada, os pesos {up_media} estão acima da média e os pesos {down_media} abaixo. A média é {media}.')\n"
      ]
    },
    {
      "cell_type": "code",
      "execution_count": null,
      "metadata": {
        "id": "PQPEwFP5W6uD",
        "outputId": "578fe0d0-0c8e-4657-eafb-60ce5d39f725"
      },
      "outputs": [
        {
          "name": "stdout",
          "output_type": "stream",
          "text": [
            "Reprovado - nota 5\n",
            "Aprovado - nota 9\n",
            "Reprovado - nota 6\n",
            "Aprovado - nota 8\n",
            "Aprovado - nota 7\n"
          ]
        }
      ],
      "source": [
        "# Lista com valores predefinidos\n",
        "notas = [5, 9, 6, 8, 7]\n",
        "\n",
        "# Laço FOR\n",
        "for i in notas:\n",
        "  if i >= 7:\n",
        "    print( f\"Aprovado - nota {i}\")\n",
        "  else:\n",
        "    print( f\"Reprovado - nota {i}\")"
      ]
    },
    {
      "cell_type": "markdown",
      "metadata": {
        "id": "p_u3sUNGW6uD"
      },
      "source": [
        "### **FOR + ENUMERATE**"
      ]
    },
    {
      "cell_type": "code",
      "execution_count": null,
      "metadata": {
        "id": "MB1Ze-LtW6uD",
        "outputId": "2772660d-5154-4e28-d8ab-c02c5da18aad"
      },
      "outputs": [
        {
          "name": "stdout",
          "output_type": "stream",
          "text": [
            "1. Reprovado - nota 5 - índice 0\n",
            "\n",
            "2. Aprovado - nota 9 - índice 1\n",
            "\n",
            "3. Reprovado - nota 6 - índice 2\n",
            "\n",
            "4. Aprovado - nota 8 - índice 3\n",
            "\n",
            "5. Aprovado - nota 7 - índice 4\n",
            "\n"
          ]
        }
      ],
      "source": [
        "# índice 0  1  2  3  4 (i)\n",
        "# valor  5  9  6  8  7 (v)\n",
        "notas = [5, 9, 6, 8, 7]\n",
        "cont = 0\n",
        "\n",
        "# Laço FOR com o método enumerate, seprando valor(v) e índice(i)\n",
        "for i, v in enumerate(notas):\n",
        "  cont +=1\n",
        "  if v >= 7:\n",
        "    print( f'{cont}. Aprovado - nota {v} - índice {i}\\n')\n",
        "  else:\n",
        "    print( f'{cont}. Reprovado - nota {v} - índice {i}\\n')"
      ]
    },
    {
      "cell_type": "markdown",
      "metadata": {
        "id": "k5fcD2SUW6uF"
      },
      "source": [
        "### **FOR + RANGE + LEN**"
      ]
    },
    {
      "cell_type": "markdown",
      "metadata": {
        "id": "o8VDC12MW6uF"
      },
      "source": [
        "        * Percorrer o for em uma estrutura delimitando índice(n) e valor(índice(n)), respectivamente\n",
        "        * RANGE delimita o intervalo que será aplicada a procura\n",
        "        * LEN define o comprimento do intervalo"
      ]
    },
    {
      "cell_type": "code",
      "execution_count": null,
      "metadata": {
        "id": "vLobyVtoW6uG",
        "outputId": "a286b9ee-7bc0-4ff8-ce59-f1f1ec6a0b52"
      },
      "outputs": [
        {
          "name": "stdout",
          "output_type": "stream",
          "text": [
            "Seq.1:\n",
            " A posição | índice da lista é :0\n",
            " O valor correspondente a posição | índice na lista é :5\n",
            "\n",
            "Seq.2:\n",
            " A posição | índice da lista é :1\n",
            " O valor correspondente a posição | índice na lista é :9\n",
            "\n",
            "Seq.3:\n",
            " A posição | índice da lista é :2\n",
            " O valor correspondente a posição | índice na lista é :6\n",
            "\n",
            "Seq.4:\n",
            " A posição | índice da lista é :3\n",
            " O valor correspondente a posição | índice na lista é :8\n",
            "\n",
            "Seq.5:\n",
            " A posição | índice da lista é :4\n",
            " O valor correspondente a posição | índice na lista é :7\n",
            "\n"
          ]
        }
      ],
      "source": [
        "# Criação de variável (contador) com valor zero para contagem de repetições do laço FOR\n",
        "cont = 0\n",
        "\n",
        "# Laço FOR\n",
        "for n in range(len(notas)):\n",
        "  cont += 1\n",
        "  print( f'Seq.{cont}:')\n",
        "  print( f' A posição | índice da lista é :{n}')\n",
        "  print( f' O valor correspondente a posição | índice na lista é :{notas[n]}\\n')"
      ]
    },
    {
      "cell_type": "markdown",
      "metadata": {
        "id": "kQ5HJ1jcW6uG"
      },
      "source": [
        "### **Aplicação**"
      ]
    },
    {
      "cell_type": "code",
      "execution_count": null,
      "metadata": {
        "id": "uaLuplgqW6uG",
        "outputId": "ae27e214-c710-4704-b8fc-fd85f1112f4b"
      },
      "outputs": [
        {
          "name": "stdout",
          "output_type": "stream",
          "text": [
            "Soma de x: 213 \n",
            "Soma de y: 151 \n",
            "Soma de xquad: 16105 \n",
            "Soma de yquad: 9379 \n",
            "Soma de xy: 11608\n"
          ]
        }
      ],
      "source": [
        "# entrada\n",
        "input_one = input( 'Digite uma lista de números inteiros separados por espaços: ')\n",
        "input_two = input( 'Digite outra lista com a mesma quantidade de números inteiros da anterior, também separados por espaços: ')\n",
        "\n",
        "# lista split\n",
        "x = list(input_one.split(\" \"))\n",
        "y = list(input_two.split(\" \"))\n",
        "\n",
        "# filtro de igualdade de número de elementos\n",
        "if len(x) != len(y):\n",
        "  print('Programa encerrado!')\n",
        "\n",
        "else:\n",
        "# conversão\n",
        "  lista_aux = [x, y]\n",
        "  for lista in lista_aux:\n",
        "    for i, v in enumerate(lista):\n",
        "      if type(v) != int:\n",
        "        lista[i] = int(v)\n",
        "      else:\n",
        "        pass\n",
        "\n",
        "# lista nova\n",
        "  xquad = []\n",
        "  yquad = []\n",
        "  xy = []\n",
        "\n",
        "# alocação\n",
        "  for n in x:\n",
        "    xquad.append(n**2)\n",
        "\n",
        "  for n in y:\n",
        "    yquad.append(n**2)\n",
        "\n",
        "  for i, v in enumerate(x):\n",
        "    xy.append(v*y[i])\n",
        "\n",
        "# soma\n",
        "  sx = sum(x)\n",
        "  sy = sum(y)\n",
        "  sxquad = sum(xquad)\n",
        "  syquad = sum(yquad)\n",
        "  sxy = sum(xy)\n",
        "\n",
        "  print( f'Soma de x: {sx} \\nSoma de y: {sy} \\nSoma de xquad: {sxquad} \\nSoma de yquad: {syquad} \\nSoma de xy: {sxy}')"
      ]
    },
    {
      "cell_type": "markdown",
      "metadata": {
        "id": "pMj1J6_FW6uH"
      },
      "source": [
        "### **WHILE**"
      ]
    },
    {
      "cell_type": "code",
      "execution_count": null,
      "metadata": {
        "id": "6JzOpbkaW6uH",
        "outputId": "62b67099-8f4d-4b45-cd4a-44a40eea32de"
      },
      "outputs": [
        {
          "name": "stdout",
          "output_type": "stream",
          "text": [
            "[0, 1, 2, 3, 4]\n"
          ]
        }
      ],
      "source": [
        "# while ou enquanto executa comandos enquanto a condição, via de regra, for verdadeira\n",
        "\n",
        "# contador\n",
        "cont = 0\n",
        "\n",
        "# entrada de dados\n",
        "entrada = int(input ( 'Insira o número de repetições: '))\n",
        "\n",
        "# lista vazia para alocação de valores\n",
        "lista_vazia = []\n",
        "\n",
        "# loop WHILE\n",
        "while cont < entrada:\n",
        "  lista_vazia.append(cont)\n",
        "  cont += 1\n",
        "\n",
        "# exibição da lista\n",
        "print(lista_vazia)"
      ]
    },
    {
      "cell_type": "code",
      "execution_count": null,
      "metadata": {
        "id": "__FHFDUTW6uI",
        "outputId": "bb4c6a5a-a41d-48d7-c6ee-7f0e0cea4383"
      },
      "outputs": [
        {
          "name": "stdout",
          "output_type": "stream",
          "text": [
            "[5, 5, 5, 5, 5]\n"
          ]
        }
      ],
      "source": [
        "# leitura dos numeros informados pelo usuário e acrescentar os 5 primeiros ímpares a lista\n",
        "\n",
        "# lista vazia para alocação de valores\n",
        "numeros = []\n",
        "\n",
        "# loop WHILE\n",
        "while len(numeros) < 5:\n",
        "  n = int(input('Informe um número inteiro: '))\n",
        "  if n%2 != 0:\n",
        "    numeros.append(n)\n",
        "\n",
        "# exibição da lista\n",
        "print(numeros)"
      ]
    },
    {
      "cell_type": "code",
      "execution_count": null,
      "metadata": {
        "id": "a8ycLR0IW6uI",
        "outputId": "b0664164-f707-4217-b2bd-07786bdf37a7"
      },
      "outputs": [
        {
          "name": "stdout",
          "output_type": "stream",
          "text": [
            "A soma dos valores digitados é 25\n"
          ]
        }
      ],
      "source": [
        "# criando contador e lista\n",
        "cont = 0\n",
        "lista_num = []\n",
        "\n",
        "# aplicação do loop\n",
        "while True:\n",
        "  try:\n",
        "    quant = int(input('Informe a quantidade de números inteiros que deseja na lista: '))\n",
        "    break\n",
        "  except:\n",
        "    pass\n",
        "  print('Por favor, digite número inteiro!')\n",
        "while cont < quant:\n",
        "  try:\n",
        "    numero = int(input( f'Informe o {cont+1}º inteiro da lista: '))\n",
        "    lista_num.append(numero)\n",
        "    cont+= 1\n",
        "  except:\n",
        "    pass\n",
        "    print( f'Cuidado! Digitar {cont+1}º numero inteiro novamente: ')\n",
        "\n",
        "print( f'A soma dos valores digitados é {sum(lista_num)}')"
      ]
    },
    {
      "cell_type": "markdown",
      "metadata": {
        "id": "vKi9bfI5W6uI"
      },
      "source": [
        "# **FIM**\n",
        "\n",
        "Estes foram os principais fundamentos aboradados durante o curso!"
      ]
    }
  ],
  "metadata": {
    "kernelspec": {
      "display_name": "Python 3",
      "language": "python",
      "name": "python3"
    },
    "language_info": {
      "codemirror_mode": {
        "name": "ipython",
        "version": 3
      },
      "file_extension": ".py",
      "mimetype": "text/x-python",
      "name": "python",
      "nbconvert_exporter": "python",
      "pygments_lexer": "ipython3",
      "version": "3.9.0"
    },
    "orig_nbformat": 4,
    "colab": {
      "provenance": [],
      "include_colab_link": true
    }
  },
  "nbformat": 4,
  "nbformat_minor": 0
}