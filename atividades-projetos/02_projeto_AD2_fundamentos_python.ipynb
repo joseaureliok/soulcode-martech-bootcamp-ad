{
  "cells": [
    {
      "cell_type": "markdown",
      "metadata": {
        "id": "view-in-github",
        "colab_type": "text"
      },
      "source": [
        "<a href=\"https://colab.research.google.com/github/joseaureliok/soulcode-martech-bootcamp-ad/blob/notebooks_aulas/atividades-projetos/02_projeto_AD2_fundamentos_python.ipynb\" target=\"_parent\"><img src=\"https://colab.research.google.com/assets/colab-badge.svg\" alt=\"Open In Colab\"/></a>"
      ]
    },
    {
      "cell_type": "markdown",
      "metadata": {
        "id": "NTOYYF3eorR4"
      },
      "source": [
        "# **PROJETO 02**\n",
        "\n",
        "\n",
        "#### Bootcamp Martech em Análise de Dados - AD2\n",
        "##### SoulCode Academy\n",
        "##### Professores:\n",
        "                Franciane Rodrigues\n",
        "                Douglas Ribeiro\n",
        "                Jonatas Carneiro\n",
        "\n",
        "##### Acadêmicos:\n",
        "                \n",
        "                José Aurelio"
      ]
    },
    {
      "cell_type": "markdown",
      "metadata": {
        "id": "GiJWXbHmq7gQ"
      },
      "source": [
        "### **REGRAS**\n",
        "\n",
        "#### entrada:\n",
        "---\n",
        "\n",
        "\n",
        "\t[x]script em Python que receba do usuário duas variáveis de valores referentes a variáveis quantitativas\n",
        "---\n",
        "#### saída:\n",
        "---\n",
        "\t[x]Média aritmética;\n",
        "\t[x]Mediana;\n",
        "\t[ ]Moda (se houver);\n",
        "\t[x]Variância amostral;\n",
        "\t[x]Desvio Padrão amostral;\n",
        "\t[x]Amplitude total;\n",
        "\t[x]Q1 (primeiro quartil);\n",
        "\t[x]Q3 (terceiro quartil);\n",
        "\t[x]AIQ (amplitude interquartílica);\n",
        "\t[x]Limite inferior (LI do boxplot);\n",
        "\t[x]Limite superior (LS do boxplot);\n",
        "\t[x]Identificação e classificação de possíveis outliers na amostra;\n",
        "\t[x]Coeficiente de Correlação de Pearson ( r );\n",
        "\t[x]Coeficiente de determinação ( r ao quadrado);\n",
        "\t[x]Coeficiente a ou alpha da equação de regressão linear simples para as duas variáveis escolhidas pelo usuário;\n",
        "\t[x]Coeficiente b ou beta da equação de regressão linear simples para as duas variáveis escolhidas pelo usuário;\n",
        "---\n",
        "#### deve usar:\n",
        "---\n",
        "\t[x](if, elif e else),\n",
        "\t[x](laço de repetição For)\n",
        "\t[x](loop While);\n",
        "---\n",
        "OBS: programa não pode incorporar módulos e frameworks não estudados até o presente momento no bootcamp.\n"
      ]
    },
    {
      "cell_type": "markdown",
      "metadata": {
        "id": "X8an5u2tsXy8"
      },
      "source": [
        "# **ENTRADA DE DADOS**"
      ]
    },
    {
      "cell_type": "code",
      "execution_count": 1,
      "metadata": {
        "colab": {
          "base_uri": "https://localhost:8080/"
        },
        "id": "7PEPbHo1qwoz",
        "outputId": "868a4a97-9eb9-40a9-8581-da46b28d5d2e"
      },
      "outputs": [
        {
          "name": "stdout",
          "output_type": "stream",
          "text": [
            "Digite um número inteiro entre 0 e 1000 para formar a primeira lista de 5 elementos: 100\n",
            "Digite um número inteiro entre 0 e 1000 para formar a primeira lista de 5 elementos: 200\n",
            "Digite um número inteiro entre 0 e 1000 para formar a primeira lista de 5 elementos: 300\n",
            "Digite um número inteiro entre 0 e 1000 para formar a primeira lista de 5 elementos: 400\n",
            "Digite um número inteiro entre 0 e 1000 para formar a primeira lista de 5 elementos: 999\n",
            "Digite um número inteiro entre 0 e 1000 para formar a segunda lista de 5 elementos: 1\n",
            "Digite um número inteiro entre 0 e 1000 para formar a segunda lista de 5 elementos: 2\n",
            "Digite um número inteiro entre 0 e 1000 para formar a segunda lista de 5 elementos: 999\n",
            "Digite um número inteiro entre 0 e 1000 para formar a segunda lista de 5 elementos: 10\n",
            "Digite um número inteiro entre 0 e 1000 para formar a segunda lista de 5 elementos: 15\n"
          ]
        }
      ],
      "source": [
        "'''para facilitar a compreensão e estudo com pequenos conjuntos de dados, serão\n",
        "criadas duas listas, com cinco elementos cada'''\n",
        "\n",
        "# declaração do contador\n",
        "contador = 0\n",
        "\n",
        "# criação de listas vazias\n",
        "lista_um = []\n",
        "lista_dois = []\n",
        "\n",
        "# limitador de entrada de dados e tratamento de erro\n",
        "while contador < 10:\n",
        "  try:\n",
        "    # distribuição da entrada de dados\n",
        "    if contador < 5:\n",
        "      lista = \"primeira\"\n",
        "    else:\n",
        "      lista = \"segunda\"\n",
        "    num = int(input( f'Digite um número inteiro entre 0 e 1000 para formar a {lista} lista de 5 elementos: '))\n",
        "\n",
        "    # regras para entrada de dados e distribuição entre as listas\n",
        "    if 0 <= num <= 1000:\n",
        "      contador +=1\n",
        "      if contador in range(1,6):\n",
        "        lista_um.append(num)\n",
        "      elif contador in range (6, 11):\n",
        "        lista_dois.append(num)\n",
        "      else:\n",
        "        break\n",
        "\n",
        "    # tratamento do erro\n",
        "    else:\n",
        "      raise ValueError('Valor fora do intervalo permitido')\n",
        "\n",
        "  #exibição do erro\n",
        "  except ValueError as error:\n",
        "    print(error)"
      ]
    },
    {
      "cell_type": "markdown",
      "metadata": {
        "id": "1PYqp1Mc4OE2"
      },
      "source": [
        "# **TRATAMENTO DOS DADOS**"
      ]
    },
    {
      "cell_type": "code",
      "execution_count": 2,
      "metadata": {
        "id": "t5gZT_5H7bQw"
      },
      "outputs": [],
      "source": [
        "# PARÂMETROS\n",
        "\n",
        "'''Listas'''\n",
        "# lista auxiliar\n",
        "lista_aux = [sorted(lista_um), sorted(lista_dois), sorted(lista_um+lista_dois)]\n",
        "\n",
        "# média\n",
        "lista_med = []\n",
        "\n",
        "# mediana\n",
        "lista_mediana = []\n",
        "\n",
        "# moda\n",
        "lista_moda = []\n",
        "\n",
        "# amplitude total\n",
        "lista_ampTotal = []\n",
        "\n",
        "# quartis\n",
        "lista_q1 = []\n",
        "lista_q3 = []\n",
        "lista_ampIQ = []\n",
        "\n",
        "# limites\n",
        "lista_li = []\n",
        "lista_ls = []\n",
        "\n",
        "# outliers\n",
        "outliers_um = []\n",
        "outliers_dois = []\n",
        "outliers_tres = []\n",
        "\n",
        "'''Posição índice geral'''\n",
        "#indíce posicional lista um\n",
        "p_um = 0\n",
        "\n",
        "#indíce posicional lista dois\n",
        "p_dois = 1\n",
        "\n",
        "#indíce posicional concatenação entre as listas\n",
        "p_tres = 2\n",
        "\n",
        "'''Tamanhos listas'''\n",
        "# numero elementos lista um e doius\n",
        "nlen = len(lista_um)\n",
        "\n",
        "# numero elementos concatenação entre as listas\n",
        "slen = len(lista_um + lista_dois)\n",
        "\n",
        "'''Variáveis'''\n",
        "# variação para as listas um e dois\n",
        "v_um = 0\n",
        "v_dois= 0\n",
        "\n",
        "# desvio padrão para as listas um e dois\n",
        "dp_a= 0\n",
        "dp_b= 0"
      ]
    },
    {
      "cell_type": "code",
      "execution_count": 3,
      "metadata": {
        "id": "dBJZHeCa4PEa"
      },
      "outputs": [],
      "source": [
        "# MÉDIA\n",
        "\n",
        "for i, v in enumerate(lista_aux):\n",
        "  lista_med.append(sum(v)/len(v))\n",
        "\n",
        "med_lista_um = lista_med[p_um]\n",
        "med_lista_dois = lista_med[p_dois]\n",
        "med_soma = lista_med[p_tres]"
      ]
    },
    {
      "cell_type": "code",
      "execution_count": 4,
      "metadata": {
        "id": "JvfbF4tNwTcD"
      },
      "outputs": [],
      "source": [
        "# MEDIANA\n",
        "\n",
        "for lista_n in lista_aux:\n",
        "  if len(lista_n) % 2 == 0:\n",
        "    m1 = lista_n[len(lista_n) // 2]\n",
        "    m2 = lista_n[len(lista_n) // 2 - 1]\n",
        "    mediana = (m1 + m2) / 2\n",
        "\n",
        "    lista_mediana.append(float(mediana))\n",
        "  else:\n",
        "    mediana = lista_n[len(lista_n) // 2]\n",
        "    lista_mediana.append(float(mediana))\n",
        "\n",
        "mediana_lista_um = lista_mediana[p_um]\n",
        "mediana_lista_dois = lista_mediana[p_dois]\n",
        "mediana_soma = lista_mediana[p_tres]\n"
      ]
    },
    {
      "cell_type": "code",
      "execution_count": 5,
      "metadata": {
        "colab": {
          "base_uri": "https://localhost:8080/"
        },
        "id": "b8rSB9sULb7W",
        "outputId": "ebe9880b-a9e0-438c-ac29-a86df49fd73e"
      },
      "outputs": [
        {
          "output_type": "stream",
          "name": "stdout",
          "text": [
            "[['multimodal'], ['multimodal'], [999, 'modal']]\n"
          ]
        }
      ],
      "source": [
        "# MODA\n",
        "\n",
        "for lista_n in lista_aux:\n",
        "    contador = {}\n",
        "    moda_elemento = None\n",
        "    moda_frequencia = 0\n",
        "\n",
        "    for elemento in lista_n:\n",
        "        if elemento not in contador:\n",
        "            contador[elemento] = 1\n",
        "        else:\n",
        "            contador[elemento] += 1\n",
        "\n",
        "        if contador[elemento] > moda_frequencia:\n",
        "            moda_elemento = elemento\n",
        "            moda_frequencia = contador[elemento]\n",
        "\n",
        "    # Verificar se há mais de um valor com a mesma frequência máxima\n",
        "    valores_modais = []\n",
        "    for elemento, frequencia in contador.items():\n",
        "        if frequencia == moda_frequencia:\n",
        "            valores_modais.append(elemento)\n",
        "\n",
        "    # Classificação modal, amodal ou multimodal\n",
        "    if len(valores_modais) > 1:\n",
        "        classificacao = \"multimodal\"\n",
        "    elif moda_elemento is not None:\n",
        "        classificacao = \"modal\"\n",
        "    else:\n",
        "        classificacao = \"amodal\"\n",
        "\n",
        "    if classificacao == \"modal\":\n",
        "      lista_moda.append([moda_elemento, classificacao])\n",
        "    else:\n",
        "      lista_moda.append([classificacao])\n",
        "\n",
        "print(lista_moda)"
      ]
    },
    {
      "cell_type": "code",
      "execution_count": 6,
      "metadata": {
        "id": "JoH-1Tcv6ht9"
      },
      "outputs": [],
      "source": [
        "# VARIâNCIA AMOSTRAL\n",
        "\n",
        "for y, w in enumerate(lista_aux):\n",
        "  for i, v in enumerate(w):\n",
        "    if y == p_um:\n",
        "      v_um += ((v - med_lista_um)**2)/nlen\n",
        "    elif y == p_dois:\n",
        "      v_dois += ((v - med_lista_dois)**2)/nlen\n"
      ]
    },
    {
      "cell_type": "code",
      "execution_count": 7,
      "metadata": {
        "id": "hOsEJEY9_h3l"
      },
      "outputs": [],
      "source": [
        "# DESVIO PADRÃO\n",
        "\n",
        "dp_um = round(((v_um)**0.5),5)\n",
        "dp_dois = round(((v_dois)**0.5),5)\n"
      ]
    },
    {
      "cell_type": "code",
      "execution_count": 8,
      "metadata": {
        "id": "RHCQ6TUD_kAC"
      },
      "outputs": [],
      "source": [
        "4# AMPLITUDE TOTAL\n",
        "\n",
        "for x in lista_aux:\n",
        "  lista_ampTotal.append(max(x)-min(x))"
      ]
    },
    {
      "cell_type": "code",
      "execution_count": 9,
      "metadata": {
        "id": "rHSxSYLk_soq"
      },
      "outputs": [],
      "source": [
        "# Q1, Q3 E AIQ\n",
        "\n",
        "for x in lista_aux:\n",
        "  qUm = (25*((len(x))-1)/100)\n",
        "  qTres = (75*((len(x))-1)/100)\n",
        "\n",
        "  lista_q1.append(x[int(round(qUm))])\n",
        "  lista_q3.append(x[int(round(qTres))])\n",
        "  lista_ampIQ.append(x[int(round(qTres))]- x[int(round(qUm))])\n"
      ]
    },
    {
      "cell_type": "code",
      "execution_count": 10,
      "metadata": {
        "id": "G7tWw4kR_wC7"
      },
      "outputs": [],
      "source": [
        "# LI E LS\n",
        "\n",
        "for i, v in enumerate(lista_aux):\n",
        "  li = lista_q1[i]- (1.5)*lista_ampIQ[i]\n",
        "  ls = lista_q3[i]+ (1.5)*lista_ampIQ[i]\n",
        "\n",
        "  lista_li.append(round((li),5))\n",
        "  lista_ls.append(round((ls),5))\n"
      ]
    },
    {
      "cell_type": "code",
      "execution_count": 11,
      "metadata": {
        "id": "p4Swy1jp_1S_"
      },
      "outputs": [],
      "source": [
        "# OUTLIERS\n",
        "\n",
        "for y, w in enumerate(lista_aux):\n",
        "  for i, v in enumerate(w):\n",
        "    if y == p_um and (lista_ls [p_um] < w[i] or w[i] < lista_li [p_um]):\n",
        "      outliers_um.append(w[i])\n",
        "    elif y == p_dois and (lista_ls [p_dois] < w[i] or w[i] < lista_li [p_dois]):\n",
        "      outliers_dois.append(w[i])\n",
        "    elif y == p_tres and (lista_ls [p_tres] < w[i] or w[i] < lista_li [p_tres]):\n",
        "      outliers_tres.append(w[i])\n"
      ]
    },
    {
      "cell_type": "code",
      "execution_count": 12,
      "metadata": {
        "id": "zVDC1ttG_2-_"
      },
      "outputs": [],
      "source": [
        "# CORRELAÇÃO DE PEARSON\n",
        "soma = []\n",
        "x = sorted(lista_um)\n",
        "y = sorted(lista_dois)\n",
        "c = 0\n",
        "while c < nlen:\n",
        "  soma.append(x[c]*y[c])\n",
        "  c +=1\n",
        "\n",
        "r_sum = sum(soma)\n",
        "r_media =  nlen * med_lista_um * med_lista_dois\n",
        "r_dpad = nlen * dp_um * dp_dois\n",
        "\n",
        "r = (r_sum - r_media)/r_dpad"
      ]
    },
    {
      "cell_type": "code",
      "execution_count": 13,
      "metadata": {
        "id": "eo3roDOWADAe"
      },
      "outputs": [],
      "source": [
        "# COEFICIENTE DE DETERMINAÇÃO\n",
        "\n",
        "r2 = r**2"
      ]
    },
    {
      "cell_type": "code",
      "execution_count": 14,
      "metadata": {
        "id": "TSrh0TYxHHEp"
      },
      "outputs": [],
      "source": [
        "# COEFICIENTES DE REGRESSÃO LINEAR SIMPLES\n",
        "sx = []\n",
        "\n",
        "sxy = (r_sum) - ((sum(lista_um)* sum(lista_dois))/(nlen))\n",
        "\n",
        "while c < nlen:\n",
        "  sx.append(lista_um[c]**2)\n",
        "sxx = (sum(sx)) - (((sum(lista_um))**2)/(nlen))\n",
        "\n",
        "beta = sxy/sxx\n",
        "\n",
        "alpha = lista_med[p_dois] - (beta*(lista_med[p_um]))\n"
      ]
    },
    {
      "cell_type": "markdown",
      "metadata": {
        "id": "6ejz8yxZ3vLH"
      },
      "source": [
        "# **SAIDA DOS DADOS**"
      ]
    },
    {
      "cell_type": "markdown",
      "metadata": {
        "id": "ngqa5yIC6q0p"
      },
      "source": [
        "## **MEDIDAS DE TENDÊNCIA CENTRAL**"
      ]
    },
    {
      "cell_type": "code",
      "execution_count": 15,
      "metadata": {
        "colab": {
          "base_uri": "https://localhost:8080/"
        },
        "id": "a98thSx-4oad",
        "outputId": "b784bd38-4ee9-48ba-fe19-677d3d832935"
      },
      "outputs": [
        {
          "output_type": "stream",
          "name": "stdout",
          "text": [
            "A média para as listas um e dois são, respectivamente: 399.8 e 205.4\n"
          ]
        }
      ],
      "source": [
        "print ( f'A média para as listas um e dois são, respectivamente: {lista_med[p_um]} e {lista_med[p_dois]}')"
      ]
    },
    {
      "cell_type": "code",
      "execution_count": 16,
      "metadata": {
        "colab": {
          "base_uri": "https://localhost:8080/"
        },
        "id": "8wGJac7O7cbE",
        "outputId": "32a49fe6-6f43-49ca-f9c0-3262ec844c3e"
      },
      "outputs": [
        {
          "output_type": "stream",
          "name": "stdout",
          "text": [
            "A mediana para as listas um e dois são, respectivamente: 300.0 e 10.0\n"
          ]
        }
      ],
      "source": [
        "print ( f'A mediana para as listas um e dois são, respectivamente: {lista_mediana[p_um]} e {lista_mediana[p_dois]}')"
      ]
    },
    {
      "cell_type": "code",
      "execution_count": 17,
      "metadata": {
        "colab": {
          "base_uri": "https://localhost:8080/"
        },
        "id": "dX5ctAremoON",
        "outputId": "04d049a4-ed01-4272-c126-b25a5e30481e"
      },
      "outputs": [
        {
          "output_type": "stream",
          "name": "stdout",
          "text": [
            "A moda para as listas um e dois são, respectivamente: ['multimodal'] e ['multimodal']\n"
          ]
        }
      ],
      "source": [
        "print ( f'A moda para as listas um e dois são, respectivamente: {lista_moda[p_um]} e {lista_moda[p_dois]}')"
      ]
    },
    {
      "cell_type": "markdown",
      "metadata": {
        "id": "OqDCMH7i7zMt"
      },
      "source": [
        "## **VARIÂNCIA E DESVIO PADRÃO**"
      ]
    },
    {
      "cell_type": "code",
      "execution_count": 18,
      "metadata": {
        "colab": {
          "base_uri": "https://localhost:8080/"
        },
        "id": "HB9J_TiF7xf4",
        "outputId": "38fc4099-f02b-4aa8-a125-a38147f4437b"
      },
      "outputs": [
        {
          "output_type": "stream",
          "name": "stdout",
          "text": [
            "A variâcoa para as listas um e dois são, respectivamente: 99760.16000 e 157477.04000\n"
          ]
        }
      ],
      "source": [
        "print ( f'A variâcoa para as listas um e dois são, respectivamente: {v_um:.5f} e {v_dois:.5f}')"
      ]
    },
    {
      "cell_type": "code",
      "execution_count": 19,
      "metadata": {
        "colab": {
          "base_uri": "https://localhost:8080/"
        },
        "id": "0hrPnyTm8HIr",
        "outputId": "98af3758-9222-486c-ec47-a3ae8782a7d2"
      },
      "outputs": [
        {
          "output_type": "stream",
          "name": "stdout",
          "text": [
            "O desvio padrão para as listas um e dois são, respectivamente: 315.84832 e 396.83377\n"
          ]
        }
      ],
      "source": [
        "print ( f'O desvio padrão para as listas um e dois são, respectivamente: {dp_um:.5f} e {dp_dois:.5f}')"
      ]
    },
    {
      "cell_type": "markdown",
      "metadata": {
        "id": "ahDxTBy68xwD"
      },
      "source": [
        "## **AMPLITUDE TOTAL E INTERQUARTÍLICA**"
      ]
    },
    {
      "cell_type": "code",
      "execution_count": 20,
      "metadata": {
        "colab": {
          "base_uri": "https://localhost:8080/"
        },
        "id": "L_WXnTar8aFo",
        "outputId": "c11a1107-ea44-44c7-ab6f-056c9f11798f"
      },
      "outputs": [
        {
          "output_type": "stream",
          "name": "stdout",
          "text": [
            "As listas um e dois possuem, respectivamente, amplitude total de: 899 e 998\n"
          ]
        }
      ],
      "source": [
        "print ( f'As listas um e dois possuem, respectivamente, amplitude total de: {lista_ampTotal[p_um]} e {lista_ampTotal[p_dois]}')"
      ]
    },
    {
      "cell_type": "code",
      "execution_count": 21,
      "metadata": {
        "colab": {
          "base_uri": "https://localhost:8080/"
        },
        "id": "TsnJ9heF9PC1",
        "outputId": "31a768e8-bdfb-4c04-8ddc-3d831e634b5b"
      },
      "outputs": [
        {
          "output_type": "stream",
          "name": "stdout",
          "text": [
            "As listas um e dois possuem, respectivamente, amplitude interquartílica de: 200 e 13\n"
          ]
        }
      ],
      "source": [
        "print ( f'As listas um e dois possuem, respectivamente, amplitude interquartílica de: {lista_ampIQ[p_um]} e {lista_ampIQ[p_dois]}')"
      ]
    },
    {
      "cell_type": "markdown",
      "metadata": {
        "id": "-mZ15fQC9dH0"
      },
      "source": [
        "## **PRIMEIRO E TERCEIRO QUARTIS (Q1 E Q3)**"
      ]
    },
    {
      "cell_type": "code",
      "execution_count": 22,
      "metadata": {
        "colab": {
          "base_uri": "https://localhost:8080/"
        },
        "id": "x5ZGCRn69ak4",
        "outputId": "edc59d02-8a27-4728-c23a-10a7ee35d7f4"
      },
      "outputs": [
        {
          "output_type": "stream",
          "name": "stdout",
          "text": [
            "As listas um e dois possuem, respectivamente, como Q1 e Q3: 200|400 e 2|15\n"
          ]
        }
      ],
      "source": [
        "print ( f'As listas um e dois possuem, respectivamente, como Q1 e Q3: {lista_q1[p_um]}|{lista_q3[p_um]} e {lista_q1[p_dois]}|{lista_q3[p_dois]}')"
      ]
    },
    {
      "cell_type": "markdown",
      "metadata": {
        "id": "AQfTTdVt-J5D"
      },
      "source": [
        "## **LIMITES SUPERIOR E INFERIOR (LS E LI)**"
      ]
    },
    {
      "cell_type": "code",
      "execution_count": 23,
      "metadata": {
        "colab": {
          "base_uri": "https://localhost:8080/"
        },
        "id": "PaSPQ7KQ9oai",
        "outputId": "a273471d-4183-48ce-c7eb-09b10193394c"
      },
      "outputs": [
        {
          "output_type": "stream",
          "name": "stdout",
          "text": [
            "As listas um e dois possuem, respectivamente, como LS e LI: 700.0|-100.0 e 34.5|-17.5\n"
          ]
        }
      ],
      "source": [
        "print ( f'As listas um e dois possuem, respectivamente, como LS e LI: {lista_ls[p_um]}|{lista_li[p_um]} e {lista_ls[p_dois]}|{lista_li[p_dois]}')"
      ]
    },
    {
      "cell_type": "markdown",
      "metadata": {
        "id": "s3Vcfupm-WtY"
      },
      "source": [
        "## **OUTLIERS**"
      ]
    },
    {
      "cell_type": "code",
      "execution_count": 24,
      "metadata": {
        "colab": {
          "base_uri": "https://localhost:8080/"
        },
        "id": "NRhCQUVZ_7VE",
        "outputId": "a1eb7e52-361c-4169-9003-25beac94815d"
      },
      "outputs": [
        {
          "output_type": "stream",
          "name": "stdout",
          "text": [
            "As listas um e dois possuem, respectivamente, como OUTLIERS: [999] e [999]\n"
          ]
        }
      ],
      "source": [
        "if len(outliers_um)>=1 and len(outliers_dois)>=1:\n",
        "  print ( f'As listas um e dois possuem, respectivamente, como OUTLIERS: {outliers_um} e {outliers_dois}')\n",
        "elif len(outliers_um)>=1 and not(len(outliers_dois)>=1):\n",
        "  print ( f'A lista um tem OUTLIERS: {outliers_um}')\n",
        "elif len(outliers_dois)>=1 and not(len(outliers_um)>=1):\n",
        "  print ( f'A lista dois tem OUTLIERS: {outliers_dois}')\n",
        "else:\n",
        "  print ('Não há outliers para as listas apresentadas')"
      ]
    },
    {
      "cell_type": "markdown",
      "metadata": {
        "id": "7ZGD90ZCFo73"
      },
      "source": [
        "## **COEFICIENTE DE CORRELAÇÃO PEARSON**"
      ]
    },
    {
      "cell_type": "code",
      "execution_count": 25,
      "metadata": {
        "colab": {
          "base_uri": "https://localhost:8080/"
        },
        "id": "AMOZG_LoCmwC",
        "outputId": "edf2d1ba-0606-4d6f-ff9d-d7a4da181b3b"
      },
      "outputs": [
        {
          "output_type": "stream",
          "name": "stdout",
          "text": [
            "O coeficiente de correlação pearson é: 0.95247\n"
          ]
        }
      ],
      "source": [
        "print ( f'O coeficiente de correlação pearson é: {r:.5f}')"
      ]
    },
    {
      "cell_type": "markdown",
      "metadata": {
        "id": "ZuvnSsHAF8_Q"
      },
      "source": [
        "## **COEFICIENTE DE DETERMINAÇÃO**"
      ]
    },
    {
      "cell_type": "code",
      "execution_count": 26,
      "metadata": {
        "colab": {
          "base_uri": "https://localhost:8080/"
        },
        "id": "MDx6KC-TF_oR",
        "outputId": "16fc7691-7b35-409b-93fc-96afb9fcbc63"
      },
      "outputs": [
        {
          "output_type": "stream",
          "name": "stdout",
          "text": [
            "O coeficiente de determinação é: 0.90719\n"
          ]
        }
      ],
      "source": [
        "print ( f'O coeficiente de determinação é: {r2:.5f}')"
      ]
    },
    {
      "cell_type": "markdown",
      "metadata": {
        "id": "E16twpcFGesF"
      },
      "source": [
        "## **COEFICIENTES *alpha* e *beta* DE REGRESSÃO LINEAR SIMPLES**"
      ]
    },
    {
      "cell_type": "code",
      "execution_count": 27,
      "metadata": {
        "colab": {
          "base_uri": "https://localhost:8080/"
        },
        "id": "wlvAIQoiGL1l",
        "outputId": "5f82f4e4-5b4d-4aee-f80d-188df487a195"
      },
      "outputs": [
        {
          "output_type": "stream",
          "name": "stdout",
          "text": [
            "Os coeficientes ALPHA e BETA de regressão linear simples para as listas apresentadas são, respectivamente: 504.00250 e -0.74688\n"
          ]
        }
      ],
      "source": [
        "print ( f'Os coeficientes ALPHA e BETA de regressão linear simples para as listas apresentadas são, respectivamente: {alpha:.5f} e {beta:.5f}')"
      ]
    },
    {
      "cell_type": "markdown",
      "metadata": {
        "id": "7ztoeEzJebCy"
      },
      "source": [
        "# **CONCLUSÃO**"
      ]
    }
  ],
  "metadata": {
    "colab": {
      "provenance": [],
      "include_colab_link": true
    },
    "kernelspec": {
      "display_name": "Python 3",
      "name": "python3"
    },
    "language_info": {
      "name": "python"
    }
  },
  "nbformat": 4,
  "nbformat_minor": 0
}